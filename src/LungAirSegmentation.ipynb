{
 "cells": [
  {
   "cell_type": "markdown",
   "metadata": {},
   "source": [
    "# MLOps for Adult Lung Segmentation "
   ]
  },
  {
   "cell_type": "markdown",
   "metadata": {},
   "source": [
    "## Imports"
   ]
  },
  {
   "cell_type": "code",
   "execution_count": 1,
   "metadata": {},
   "outputs": [
    {
     "name": "stdout",
     "output_type": "stream",
     "text": [
      "True\n"
     ]
    }
   ],
   "source": [
    "import torch\n",
    "from torch.utils.data import random_split\n",
    "from torch import optim\n",
    "import pytorch_lightning as pl\n",
    "import torchmetrics.classification \n",
    "\n",
    "import os\n",
    "os.environ['KMP_DUPLICATE_LIB_OK']='True'\n",
    "from monai.losses import DiceCELoss\n",
    "from monai.networks.nets import UNETR\n",
    "from monai.data import DataLoader, Dataset\n",
    "from monai.transforms import ( Compose, Resized, \n",
    "                              ToTensord, NormalizeIntensityd, \n",
    "                              LoadImaged, EnsureChannelFirstd, \n",
    "                              RandAffined )\n",
    "import numpy as np\n",
    "import glob\n",
    "import SimpleITK as sitk\n",
    "import pandas as pd\n",
    "import csv\n",
    "\n",
    "# Through pytorch lightning\n",
    "from lightning.pytorch.loggers import MLFlowLogger\n",
    "\n",
    "# Or directly:\n",
    "import mlflow\n",
    "\n",
    "print(torch.cuda.is_available())"
   ]
  },
  {
   "cell_type": "markdown",
   "metadata": {},
   "source": [
    "## Create a data list csv file (can version this when excluding cases)"
   ]
  },
  {
   "cell_type": "code",
   "execution_count": 2,
   "metadata": {},
   "outputs": [
    {
     "data": {
      "text/html": [
       "<div>\n",
       "<style scoped>\n",
       "    .dataframe tbody tr th:only-of-type {\n",
       "        vertical-align: middle;\n",
       "    }\n",
       "\n",
       "    .dataframe tbody tr th {\n",
       "        vertical-align: top;\n",
       "    }\n",
       "\n",
       "    .dataframe thead th {\n",
       "        text-align: right;\n",
       "    }\n",
       "</style>\n",
       "<table border=\"1\" class=\"dataframe\">\n",
       "  <thead>\n",
       "    <tr style=\"text-align: right;\">\n",
       "      <th></th>\n",
       "      <th>image</th>\n",
       "      <th>seg_left</th>\n",
       "      <th>seg_right</th>\n",
       "      <th>source</th>\n",
       "      <th>tubercolosis</th>\n",
       "      <th>seg</th>\n",
       "    </tr>\n",
       "  </thead>\n",
       "  <tbody>\n",
       "    <tr>\n",
       "      <th>0</th>\n",
       "      <td>../data/MontgomerySet/CXR_png/MCUCXR_0102_0.png</td>\n",
       "      <td>../data/MontgomerySet/ManualMask/leftMask/MCUC...</td>\n",
       "      <td>../data/MontgomerySet/ManualMask/rightMask/MCU...</td>\n",
       "      <td>montgomery</td>\n",
       "      <td>False</td>\n",
       "      <td>NaN</td>\n",
       "    </tr>\n",
       "    <tr>\n",
       "      <th>1</th>\n",
       "      <td>../data/MontgomerySet/CXR_png/MCUCXR_0045_0.png</td>\n",
       "      <td>../data/MontgomerySet/ManualMask/leftMask/MCUC...</td>\n",
       "      <td>../data/MontgomerySet/ManualMask/rightMask/MCU...</td>\n",
       "      <td>montgomery</td>\n",
       "      <td>False</td>\n",
       "      <td>NaN</td>\n",
       "    </tr>\n",
       "    <tr>\n",
       "      <th>2</th>\n",
       "      <td>../data/MontgomerySet/CXR_png/MCUCXR_0369_1.png</td>\n",
       "      <td>../data/MontgomerySet/ManualMask/leftMask/MCUC...</td>\n",
       "      <td>../data/MontgomerySet/ManualMask/rightMask/MCU...</td>\n",
       "      <td>montgomery</td>\n",
       "      <td>True</td>\n",
       "      <td>NaN</td>\n",
       "    </tr>\n",
       "    <tr>\n",
       "      <th>3</th>\n",
       "      <td>../data/MontgomerySet/CXR_png/MCUCXR_0313_1.png</td>\n",
       "      <td>../data/MontgomerySet/ManualMask/leftMask/MCUC...</td>\n",
       "      <td>../data/MontgomerySet/ManualMask/rightMask/MCU...</td>\n",
       "      <td>montgomery</td>\n",
       "      <td>True</td>\n",
       "      <td>NaN</td>\n",
       "    </tr>\n",
       "    <tr>\n",
       "      <th>4</th>\n",
       "      <td>../data/MontgomerySet/CXR_png/MCUCXR_0077_0.png</td>\n",
       "      <td>../data/MontgomerySet/ManualMask/leftMask/MCUC...</td>\n",
       "      <td>../data/MontgomerySet/ManualMask/rightMask/MCU...</td>\n",
       "      <td>montgomery</td>\n",
       "      <td>False</td>\n",
       "      <td>NaN</td>\n",
       "    </tr>\n",
       "    <tr>\n",
       "      <th>...</th>\n",
       "      <td>...</td>\n",
       "      <td>...</td>\n",
       "      <td>...</td>\n",
       "      <td>...</td>\n",
       "      <td>...</td>\n",
       "      <td>...</td>\n",
       "    </tr>\n",
       "    <tr>\n",
       "      <th>795</th>\n",
       "      <td>../data/ChinaSet_AllFiles/CXR/CHNCXR_0648_1.png</td>\n",
       "      <td>NaN</td>\n",
       "      <td>NaN</td>\n",
       "      <td>shenzen</td>\n",
       "      <td>True</td>\n",
       "      <td>../data/MontgomerySet/ManualMask/leftMask/MCUC...</td>\n",
       "    </tr>\n",
       "    <tr>\n",
       "      <th>796</th>\n",
       "      <td>../data/ChinaSet_AllFiles/CXR/CHNCXR_0332_1.png</td>\n",
       "      <td>NaN</td>\n",
       "      <td>NaN</td>\n",
       "      <td>shenzen</td>\n",
       "      <td>True</td>\n",
       "      <td>../data/MontgomerySet/ManualMask/leftMask/MCUC...</td>\n",
       "    </tr>\n",
       "    <tr>\n",
       "      <th>797</th>\n",
       "      <td>../data/ChinaSet_AllFiles/CXR/CHNCXR_0338_1.png</td>\n",
       "      <td>NaN</td>\n",
       "      <td>NaN</td>\n",
       "      <td>shenzen</td>\n",
       "      <td>True</td>\n",
       "      <td>../data/MontgomerySet/ManualMask/leftMask/MCUC...</td>\n",
       "    </tr>\n",
       "    <tr>\n",
       "      <th>798</th>\n",
       "      <td>../data/ChinaSet_AllFiles/CXR/CHNCXR_0286_0.png</td>\n",
       "      <td>NaN</td>\n",
       "      <td>NaN</td>\n",
       "      <td>shenzen</td>\n",
       "      <td>False</td>\n",
       "      <td>../data/MontgomerySet/ManualMask/leftMask/MCUC...</td>\n",
       "    </tr>\n",
       "    <tr>\n",
       "      <th>799</th>\n",
       "      <td>../data/ChinaSet_AllFiles/CXR/CHNCXR_0464_1.png</td>\n",
       "      <td>NaN</td>\n",
       "      <td>NaN</td>\n",
       "      <td>shenzen</td>\n",
       "      <td>True</td>\n",
       "      <td>../data/MontgomerySet/ManualMask/leftMask/MCUC...</td>\n",
       "    </tr>\n",
       "  </tbody>\n",
       "</table>\n",
       "<p>800 rows × 6 columns</p>\n",
       "</div>"
      ],
      "text/plain": [
       "                                               image  \\\n",
       "0    ../data/MontgomerySet/CXR_png/MCUCXR_0102_0.png   \n",
       "1    ../data/MontgomerySet/CXR_png/MCUCXR_0045_0.png   \n",
       "2    ../data/MontgomerySet/CXR_png/MCUCXR_0369_1.png   \n",
       "3    ../data/MontgomerySet/CXR_png/MCUCXR_0313_1.png   \n",
       "4    ../data/MontgomerySet/CXR_png/MCUCXR_0077_0.png   \n",
       "..                                               ...   \n",
       "795  ../data/ChinaSet_AllFiles/CXR/CHNCXR_0648_1.png   \n",
       "796  ../data/ChinaSet_AllFiles/CXR/CHNCXR_0332_1.png   \n",
       "797  ../data/ChinaSet_AllFiles/CXR/CHNCXR_0338_1.png   \n",
       "798  ../data/ChinaSet_AllFiles/CXR/CHNCXR_0286_0.png   \n",
       "799  ../data/ChinaSet_AllFiles/CXR/CHNCXR_0464_1.png   \n",
       "\n",
       "                                              seg_left  \\\n",
       "0    ../data/MontgomerySet/ManualMask/leftMask/MCUC...   \n",
       "1    ../data/MontgomerySet/ManualMask/leftMask/MCUC...   \n",
       "2    ../data/MontgomerySet/ManualMask/leftMask/MCUC...   \n",
       "3    ../data/MontgomerySet/ManualMask/leftMask/MCUC...   \n",
       "4    ../data/MontgomerySet/ManualMask/leftMask/MCUC...   \n",
       "..                                                 ...   \n",
       "795                                                NaN   \n",
       "796                                                NaN   \n",
       "797                                                NaN   \n",
       "798                                                NaN   \n",
       "799                                                NaN   \n",
       "\n",
       "                                             seg_right      source  \\\n",
       "0    ../data/MontgomerySet/ManualMask/rightMask/MCU...  montgomery   \n",
       "1    ../data/MontgomerySet/ManualMask/rightMask/MCU...  montgomery   \n",
       "2    ../data/MontgomerySet/ManualMask/rightMask/MCU...  montgomery   \n",
       "3    ../data/MontgomerySet/ManualMask/rightMask/MCU...  montgomery   \n",
       "4    ../data/MontgomerySet/ManualMask/rightMask/MCU...  montgomery   \n",
       "..                                                 ...         ...   \n",
       "795                                                NaN     shenzen   \n",
       "796                                                NaN     shenzen   \n",
       "797                                                NaN     shenzen   \n",
       "798                                                NaN     shenzen   \n",
       "799                                                NaN     shenzen   \n",
       "\n",
       "     tubercolosis                                                seg  \n",
       "0           False                                                NaN  \n",
       "1           False                                                NaN  \n",
       "2            True                                                NaN  \n",
       "3            True                                                NaN  \n",
       "4           False                                                NaN  \n",
       "..            ...                                                ...  \n",
       "795          True  ../data/MontgomerySet/ManualMask/leftMask/MCUC...  \n",
       "796          True  ../data/MontgomerySet/ManualMask/leftMask/MCUC...  \n",
       "797          True  ../data/MontgomerySet/ManualMask/leftMask/MCUC...  \n",
       "798         False  ../data/MontgomerySet/ManualMask/leftMask/MCUC...  \n",
       "799          True  ../data/MontgomerySet/ManualMask/leftMask/MCUC...  \n",
       "\n",
       "[800 rows x 6 columns]"
      ]
     },
     "metadata": {},
     "output_type": "display_data"
    }
   ],
   "source": [
    "def file_path_to_abnormality(filepath):\n",
    "    return bool(int(filepath[12]))\n",
    "\n",
    "DATA_DIR = \"../data\" # CXR_png, ManualMask/leftMask, rightMask\n",
    "\n",
    "montgomery_image_path = os.path.join(DATA_DIR,\"MontgomerySet\",'CXR_png')\n",
    "montgomery_leftmask_path = os.path.join(DATA_DIR,\"MontgomerySet\",'ManualMask','leftMask')\n",
    "montgomery_rightmask_path = os.path.join(DATA_DIR,\"MontgomerySet\",'ManualMask','rightMask')\n",
    "\n",
    "# Montgomery dataset\n",
    "data_list = []\n",
    "list = os.listdir(montgomery_image_path)\n",
    "for file in os.listdir(montgomery_image_path):\n",
    "    if file.endswith('.png'):\n",
    "\n",
    "        img_name = os.path.join(montgomery_image_path,file)\n",
    "        left_name = os.path.join(montgomery_leftmask_path,file)\n",
    "        right_name = os.path.join(montgomery_rightmask_path,file)\n",
    "\n",
    "        data_list.append({\n",
    "            'image': img_name,\n",
    "            'seg_left': left_name,\n",
    "            'seg_right': right_name,\n",
    "            'source': 'montgomery',\n",
    "            'tubercolosis': file_path_to_abnormality(file)\n",
    "        })\n",
    "\n",
    "shenzen_image_path = os.path.join(DATA_DIR,\"ChinaSet_AllFiles\",\"CXR\")\n",
    "shenzen_mask_path = os.path.join(DATA_DIR,\"ChinaSet_AllFiles\",\"CXR_segs\")\n",
    "\n",
    "# Shenzen dataset\n",
    "list = os.listdir(shenzen_image_path)\n",
    "for file in os.listdir(shenzen_image_path):\n",
    "    if file.endswith('.png'):\n",
    "\n",
    "        img_name = os.path.join(shenzen_image_path,file)\n",
    "        seg_name = os.path.join(shenzen_mask_path,file)\n",
    "\n",
    "        data_list.append({\n",
    "            'image': img_name,\n",
    "            'seg': left_name,\n",
    "            'source': 'shenzen',\n",
    "            'tubercolosis': file_path_to_abnormality(file)\n",
    "        })\n",
    "\n",
    "# Convet to csv and write to file. dvc can track this file for data versioning\n",
    "data_forcsv = pd.DataFrame.from_dict(data_list)\n",
    "pd.DataFrame.to_csv(data_forcsv,os.path.join(DATA_DIR, 'datalist.csv'), header = True,index = False)\n",
    "\n",
    "display(data_forcsv)"
   ]
  },
  {
   "cell_type": "markdown",
   "metadata": {},
   "source": [
    "## Custom Data Loader - using a Custom Dataset and Pytorch Lightning"
   ]
  },
  {
   "cell_type": "code",
   "execution_count": 3,
   "metadata": {},
   "outputs": [],
   "source": [
    "# Only applied to training dataset\n",
    "class ApplyTransform(Dataset):\n",
    "    \"\"\"\n",
    "    Apply transformations to a Dataset\n",
    "\n",
    "    Arguments:\n",
    "        dataset (Dataset): A Dataset that returns (sample, target)\n",
    "        transform (callable, optional): A function/transform to be applied on the sample\n",
    "\n",
    "    \"\"\"\n",
    "    def __init__(self, dataset, transform=None):\n",
    "\n",
    "        self.dataset = dataset\n",
    "        self.transform = transform\n",
    "\n",
    "    def __getitem__(self, idx):\n",
    "        sample = self.dataset[idx]\n",
    "\n",
    "        if self.transform is not None:\n",
    "            sample = self.transform(sample)\n",
    "\n",
    "        return sample\n",
    "\n",
    "    def __len__(self):\n",
    "        return len(self.dataset)\n",
    "    \n",
    "# Takes as input the path to files\n",
    "class LungSegmentationDataset(Dataset):\n",
    "    def __init__(self, datalist_filepath, transforms):\n",
    "        \n",
    "        self.data_list = pd.read_csv(datalist_filepath)\n",
    "        self.transform = transforms\n",
    "\n",
    "    def __len__(self):\n",
    "        return self.data_list.shape[0]\n",
    "    \n",
    "    def file_path_to_ID(self,filepath):\n",
    "        id = os.path.basename(filepath)[:-6]\n",
    "        return id\n",
    "    \n",
    "    def __getitem__(self, idx):\n",
    "\n",
    "        # Load Image and corresponding segmentation masks\n",
    "        img_name = self.data_list.loc[idx,'image']\n",
    "        img = sitk.GetArrayFromImage(sitk.ReadImage(img_name))\n",
    "\n",
    "        # Shenzen images have 3 channels but all of them are the same\n",
    "        if len(img.shape) == 3:\n",
    "            img = img[:,:,0]\n",
    "\n",
    "        if self.data_list.loc[idx,'source'] == 'montgomery':\n",
    "            left_name = self.data_list.loc[idx,'seg_left']\n",
    "            right_name = self.data_list.loc[idx,'seg_right']\n",
    "            \n",
    "            left = sitk.GetArrayFromImage(sitk.ReadImage(left_name))/255\n",
    "            right = sitk.GetArrayFromImage(sitk.ReadImage(right_name))/255\n",
    "\n",
    "            seg = left + right #  Combine the right and left masks\n",
    "\n",
    "        elif self.data_list.loc[idx,'source'] == 'shenzen':\n",
    "            seg_name = self.data_list.loc[idx,'seg']\n",
    "            seg = sitk.GetArrayFromImage(sitk.ReadImage(seg_name))/255\n",
    "\n",
    "        seg = seg.astype(int)\n",
    "        sample = {'image':img,'label':seg,'id': self.file_path_to_ID(img_name)}\n",
    "\n",
    "        if self.transform is not None:\n",
    "            sample = self.transform(sample)\n",
    "\n",
    "        return sample"
   ]
  },
  {
   "cell_type": "markdown",
   "metadata": {},
   "source": [
    "### Testing out custom dataset"
   ]
  },
  {
   "cell_type": "code",
   "execution_count": 4,
   "metadata": {},
   "outputs": [
    {
     "name": "stdout",
     "output_type": "stream",
     "text": [
      "MCUCXR_0077\n",
      "Number of training cases: 560\n",
      "Number of validation cases: 160\n",
      "Number of test cases: 80\n"
     ]
    },
    {
     "data": {
      "image/png": "[encoded data removed]",
      "text/plain": [
       "<Figure size 640x480 with 1 Axes>"
      ]
     },
     "metadata": {},
     "output_type": "display_data"
    },
    {
     "data": {
      "image/png": "[encoded data removed]",
      "text/plain": [
       "<Figure size 640x480 with 1 Axes>"
      ]
     },
     "metadata": {},
     "output_type": "display_data"
    }
   ],
   "source": [
    "transforms = Compose([EnsureChannelFirstd(keys=['image','label'], channel_dim='no_channel'),\n",
    "            Resized(keys=['image','label'], spatial_size = (512,512), mode=(\"bilinear\",\"nearest\")),      \n",
    "            NormalizeIntensityd(keys=['image','label']),\n",
    "            ToTensord(keys=['image','label'])])\n",
    "\n",
    "aug_transforms = RandAffined(keys=['image','label'],mode=('bilinear','nearest'),prob=0.4,rotate_range=(np.pi/2, 0, 0))\n",
    "\n",
    "ds = LungSegmentationDataset(os.path.join(DATA_DIR,'datalist.csv'),transforms=transforms)\n",
    "aug_ds = ApplyTransform(ds, aug_transforms)\n",
    "\n",
    "sample = aug_ds[4]\n",
    "\n",
    "import matplotlib.pyplot as plt\n",
    "img = sample[\"image\"]\n",
    "seg = sample[\"label\"]\n",
    "print(sample['id'])\n",
    "plt.imshow(img[0])\n",
    "plt.figure()\n",
    "plt.imshow(seg[0])\n",
    "\n",
    "generator = torch.Generator().manual_seed(42)\n",
    "train_ds, val_ds, test_ds = random_split(ds,[0.7,0.2,0.1], generator=generator)\n",
    "print(\"Number of training cases:\", len(train_ds))\n",
    "print(\"Number of validation cases:\", len(val_ds))\n",
    "print(\"Number of test cases:\", len(test_ds))\n",
    "\n",
    "train_dataloader = DataLoader(train_ds,\n",
    "            batch_size = 2,\n",
    "            num_workers = 0,\n",
    "            shuffle=True)\n",
    "        \n",
    "val_dataloader =DataLoader(val_ds,\n",
    "            batch_size = 2,\n",
    "            num_workers = 0,\n",
    "            shuffle=False)\n",
    "\n",
    "test_dataloader =DataLoader(test_ds,\n",
    "            batch_size = 2,\n",
    "            num_workers = 0,\n",
    "            shuffle=False)"
   ]
  },
  {
   "cell_type": "markdown",
   "metadata": {},
   "source": [
    "## Lung Segmentation Data Module"
   ]
  },
  {
   "cell_type": "code",
   "execution_count": 5,
   "metadata": {},
   "outputs": [],
   "source": [
    "class LungSegmentationDataModule(pl.LightningDataModule):\n",
    "    def __init__(self, datalist_file, batch_size, num_workers):\n",
    "        super().__init__()\n",
    "        self.datalist_file = datalist_file\n",
    "        self.batch_size = batch_size\n",
    "        self.num_workers = num_workers\n",
    "\n",
    "        self.dims = 2\n",
    "\n",
    "        self.transforms = Compose([EnsureChannelFirstd(keys=[\"image\",\"label\"], channel_dim='no_channel'), \n",
    "            Resized(keys=['image','label'], spatial_size = (512,512), mode=(\"bilinear\",\"nearest\")),\n",
    "            NormalizeIntensityd(keys=['image']),\n",
    "            ToTensord(keys=[\"image\",\"label\"])])\n",
    "        \n",
    "        self.aug_transforms = RandAffined(keys=['image','label'],mode=('bilinear','nearest'),prob=0.1,rotate_range=(0, 0, np.pi))\n",
    "\n",
    "    def prepare_data(self):\n",
    "        \"\"\"\n",
    "        Empty prepare_data method left in intentionally. \n",
    "        https://pytorch-lightning.readthedocs.io/en/latest/data/datamodule.html#prepare-data\n",
    "        This function is used if downloading data . Processes that occcur on a single processing unit\n",
    "        \"\"\"\n",
    "        pass\n",
    "\n",
    "    def setup(self, stage):\n",
    "\n",
    "        # Assign train/val datasets for use in datlaloaders\n",
    "        entire_dataset =  LungSegmentationDataset(\n",
    "            self.datalist_file,\n",
    "            transforms = self.transforms)\n",
    "        \n",
    "        # Split data\n",
    "        generator = torch.Generator().manual_seed(42) # reproducible split\n",
    "        self.train_ds, self.val_ds, self.test_ds = random_split(entire_dataset,[0.7,0.2,0.1], generator=generator)\n",
    "\n",
    "        # Apply data augmentation transfprms to train_ds\n",
    "        self.train_ds = ApplyTransform(self.train_ds, self.aug_transforms)\n",
    "\n",
    "    def train_dataloader(self):\n",
    "        return DataLoader(self.train_ds,\n",
    "            batch_size = self.batch_size,\n",
    "            num_workers = self.num_workers,\n",
    "            shuffle=True)\n",
    "        \n",
    "    def val_dataloader(self):\n",
    "        return DataLoader(self.val_ds,\n",
    "            batch_size = self.batch_size,\n",
    "            num_workers = self.num_workers,\n",
    "            shuffle=False)\n",
    "\n",
    "    def test_dataloader(self):\n",
    "        return DataLoader(self.test_ds,\n",
    "            batch_size = self.batch_size,\n",
    "            num_workers = self.num_workers,\n",
    "            shuffle=False)"
   ]
  },
  {
   "cell_type": "markdown",
   "metadata": {},
   "source": [
    "# Define Network"
   ]
  },
  {
   "cell_type": "code",
   "execution_count": 6,
   "metadata": {},
   "outputs": [],
   "source": [
    "class Net(pl.LightningModule):\n",
    "    def __init__(self, input_size, num_classes, learning_rate):\n",
    "        super().__init__()\n",
    "\n",
    "        self.model = UNETR(in_channels = 1, out_channels = num_classes, img_size = input_size, spatial_dims=2)\n",
    "        self.loss = DiceCELoss(to_onehot_y=True, softmax=True)\n",
    "        self.learning_rate = learning_rate\n",
    "        self.train_dice = torchmetrics.classification.Dice(num_classes=2)\n",
    "        self.val_dice = torchmetrics.classification.Dice(num_classes=2)\n",
    "\n",
    "    def forward(self,x):\n",
    "        x = self.model(x)\n",
    "        return x\n",
    "\n",
    "    def configure_optimizers(self):\n",
    "        print(self.learning_rate)\n",
    "        return optim.Adam(self.parameters(), lr=self.learning_rate)\n",
    "\n",
    "    def training_step(self, batch, batch_idx):\n",
    "        loss, pred, y = self.common_step(batch,batch_idx)\n",
    "        dice = self.train_dice(pred, y)\n",
    "        self.log_dict({\"train_loss\":loss, \"train_dsc\": dice}, on_epoch = True, on_step = False)\n",
    "        return loss\n",
    "        # can return loss, log values\n",
    "\n",
    "    def validation_step(self, batch, batch_idx):\n",
    "        # validation loigic\n",
    "        loss, pred, y = self.common_step(batch,batch_idx)\n",
    "        dice = self.val_dice(pred, y)\n",
    "        self.log_dict({\"val_loss\":loss, \"val_dsc\": dice}, on_epoch = True, on_step = False)\n",
    "        #mlflow.log_metric(\"val_loss\", loss)\n",
    "        return loss\n",
    "    \n",
    "    def test_step(self, batch, batch_idx):\n",
    "        loss, pred, y = self.common_step(batch,batch_idx)\n",
    "        return loss, pred, y\n",
    "\n",
    "    def common_step(self, batch, batch_idx):\n",
    "        # training logic\n",
    "        x = batch[\"image\"]\n",
    "        y = batch[\"label\"].int()\n",
    "\n",
    "        pred = self.forward(x)\n",
    "        loss = self.loss(pred,y)\n",
    "\n",
    "        return loss, pred, y\n",
    "    \n",
    "    def predict_step(self, batch, batch_idx):\n",
    "        x = batch[\"image\"]\n",
    "\n",
    "        pred = self.forward(x)\n",
    "        pred = pred.softmax(dim = 1) # Convert to probability map\n",
    "        preds = torch.argmax(pred, dim=1)\n",
    "        return preds\n"
   ]
  },
  {
   "cell_type": "code",
   "execution_count": 7,
   "metadata": {},
   "outputs": [],
   "source": [
    "# Hyperparameters\n",
    "\n",
    "config = {'input_size':(512,512),\n",
    "    'num_classes':2,\n",
    "    'learning_rate':0.001,\n",
    "    'batch_size':4,\n",
    "    'num_epochs':150,\n",
    "    'num_workers':0,\n",
    "    'learning_rate':0.01\n",
    "}\n"
   ]
  },
  {
   "cell_type": "markdown",
   "metadata": {},
   "source": [
    "# Start training - Main code "
   ]
  },
  {
   "cell_type": "code",
   "execution_count": 8,
   "metadata": {},
   "outputs": [],
   "source": [
    "# %reload_ext tensorboard\n",
    "# %tensorboard --logdir=lightning_logs/"
   ]
  },
  {
   "cell_type": "markdown",
   "metadata": {},
   "source": [
    "## MLFlow related details"
   ]
  },
  {
   "cell_type": "code",
   "execution_count": 2,
   "metadata": {},
   "outputs": [],
   "source": [
    "mlflow_uri = \"http://localhost:5000\"\n",
    "experiment_name = \"FullDatasetLungSeg\"\n",
    "run_name=\"baseline\"\n",
    "\n",
    "experiment_description = (\n",
    "     \"Adult Lung segmentation from 2D Chest X-Rays\"\n",
    " )\n",
    "\n",
    "experiment_tags = {\n",
    "     \"project_name\": \"LungAirSeg_MLOps\",\n",
    "     \"Dataset\": \"Montogmery + Shenzen\",\n",
    "     \"mlflow.note.content\": experiment_description\n",
    " }"
   ]
  },
  {
   "cell_type": "code",
   "execution_count": 10,
   "metadata": {},
   "outputs": [
    {
     "name": "stdout",
     "output_type": "stream",
     "text": [
      "True\n"
     ]
    },
    {
     "name": "stderr",
     "output_type": "stream",
     "text": [
      "GPU available: True (cuda), used: True\n",
      "TPU available: False, using: 0 TPU cores\n",
      "IPU available: False, using: 0 IPUs\n",
      "HPU available: False, using: 0 HPUs\n",
      "You are using a CUDA device ('NVIDIA GeForce RTX 3090') that has Tensor Cores. To properly utilize them, you should set `torch.set_float32_matmul_precision('medium' | 'high')` which will trade-off precision for performance. For more details, read https://pytorch.org/docs/stable/generated/torch.set_float32_matmul_precision.html#torch.set_float32_matmul_precision\n",
      "LOCAL_RANK: 0 - CUDA_VISIBLE_DEVICES: [0]\n",
      "\n",
      "  | Name       | Type       | Params\n",
      "------------------------------------------\n",
      "0 | model      | UNETR      | 87.9 M\n",
      "1 | loss       | DiceCELoss | 0     \n",
      "2 | train_dice | Dice       | 0     \n",
      "3 | val_dice   | Dice       | 0     \n",
      "------------------------------------------\n",
      "87.9 M    Trainable params\n",
      "0         Non-trainable params\n",
      "87.9 M    Total params\n",
      "351.621   Total estimated model params size (MB)\n"
     ]
    },
    {
     "name": "stdout",
     "output_type": "stream",
     "text": [
      "0.01\n"
     ]
    },
    {
     "data": {
      "application/vnd.jupyter.widget-view+json": {
       "model_id": "c0ad2f06335b41e29ead3779929934cb",
       "version_major": 2,
       "version_minor": 0
      },
      "text/plain": [
       "Sanity Checking: |          | 0/? [00:00<?, ?it/s]"
      ]
     },
     "metadata": {},
     "output_type": "display_data"
    },
    {
     "name": "stderr",
     "output_type": "stream",
     "text": [
      "/home/sadhanar/.local/lib/python3.8/site-packages/pytorch_lightning/trainer/connectors/data_connector.py:441: The 'val_dataloader' does not have many workers which may be a bottleneck. Consider increasing the value of the `num_workers` argument` to `num_workers=15` in the `DataLoader` to improve performance.\n",
      "/home/sadhanar/.local/lib/python3.8/site-packages/pytorch_lightning/utilities/data.py:77: Trying to infer the `batch_size` from an ambiguous collection. The batch size we found is 4. To avoid any miscalculations, use `self.log(..., batch_size=batch_size)`.\n",
      "/home/sadhanar/.local/lib/python3.8/site-packages/pytorch_lightning/trainer/connectors/data_connector.py:441: The 'train_dataloader' does not have many workers which may be a bottleneck. Consider increasing the value of the `num_workers` argument` to `num_workers=15` in the `DataLoader` to improve performance.\n"
     ]
    },
    {
     "data": {
      "application/vnd.jupyter.widget-view+json": {
       "model_id": "6e800a47e3ba4f4d9880c602fb35ce1b",
       "version_major": 2,
       "version_minor": 0
      },
      "text/plain": [
       "Training: |          | 0/? [00:00<?, ?it/s]"
      ]
     },
     "metadata": {},
     "output_type": "display_data"
    },
    {
     "data": {
      "application/vnd.jupyter.widget-view+json": {
       "model_id": "e730bc8068f54e83ba96fd4a3aa555a1",
       "version_major": 2,
       "version_minor": 0
      },
      "text/plain": [
       "Validation: |          | 0/? [00:00<?, ?it/s]"
      ]
     },
     "metadata": {},
     "output_type": "display_data"
    },
    {
     "data": {
      "application/vnd.jupyter.widget-view+json": {
       "model_id": "62d7a5c949db4ef481449405f54458d5",
       "version_major": 2,
       "version_minor": 0
      },
      "text/plain": [
       "Validation: |          | 0/? [00:00<?, ?it/s]"
      ]
     },
     "metadata": {},
     "output_type": "display_data"
    },
    {
     "data": {
      "application/vnd.jupyter.widget-view+json": {
       "model_id": "7112bcfe7aa94f92b4e428cb15865610",
       "version_major": 2,
       "version_minor": 0
      },
      "text/plain": [
       "Validation: |          | 0/? [00:00<?, ?it/s]"
      ]
     },
     "metadata": {},
     "output_type": "display_data"
    },
    {
     "data": {
      "application/vnd.jupyter.widget-view+json": {
       "model_id": "e88c75beb7834f6090109a83f2d1e7be",
       "version_major": 2,
       "version_minor": 0
      },
      "text/plain": [
       "Validation: |          | 0/? [00:00<?, ?it/s]"
      ]
     },
     "metadata": {},
     "output_type": "display_data"
    },
    {
     "data": {
      "application/vnd.jupyter.widget-view+json": {
       "model_id": "f69178c34e7e4ec1aba1f5f544b7715c",
       "version_major": 2,
       "version_minor": 0
      },
      "text/plain": [
       "Validation: |          | 0/? [00:00<?, ?it/s]"
      ]
     },
     "metadata": {},
     "output_type": "display_data"
    },
    {
     "data": {
      "application/vnd.jupyter.widget-view+json": {
       "model_id": "f0ff292ac1b048c98d2004cc1880de67",
       "version_major": 2,
       "version_minor": 0
      },
      "text/plain": [
       "Validation: |          | 0/? [00:00<?, ?it/s]"
      ]
     },
     "metadata": {},
     "output_type": "display_data"
    },
    {
     "data": {
      "application/vnd.jupyter.widget-view+json": {
       "model_id": "e925338b112b441aacd80880e728723b",
       "version_major": 2,
       "version_minor": 0
      },
      "text/plain": [
       "Validation: |          | 0/? [00:00<?, ?it/s]"
      ]
     },
     "metadata": {},
     "output_type": "display_data"
    },
    {
     "data": {
      "application/vnd.jupyter.widget-view+json": {
       "model_id": "9e389927dc99405198a7cf3a7706d617",
       "version_major": 2,
       "version_minor": 0
      },
      "text/plain": [
       "Validation: |          | 0/? [00:00<?, ?it/s]"
      ]
     },
     "metadata": {},
     "output_type": "display_data"
    },
    {
     "data": {
      "application/vnd.jupyter.widget-view+json": {
       "model_id": "d74728d622c14358b0e3169e06ee1a78",
       "version_major": 2,
       "version_minor": 0
      },
      "text/plain": [
       "Validation: |          | 0/? [00:00<?, ?it/s]"
      ]
     },
     "metadata": {},
     "output_type": "display_data"
    },
    {
     "data": {
      "application/vnd.jupyter.widget-view+json": {
       "model_id": "d9be329ced0349308d04a5f73fe6ee88",
       "version_major": 2,
       "version_minor": 0
      },
      "text/plain": [
       "Validation: |          | 0/? [00:00<?, ?it/s]"
      ]
     },
     "metadata": {},
     "output_type": "display_data"
    },
    {
     "data": {
      "application/vnd.jupyter.widget-view+json": {
       "model_id": "b6a48fdd35f846b3bf033c57f9586f7e",
       "version_major": 2,
       "version_minor": 0
      },
      "text/plain": [
       "Validation: |          | 0/? [00:00<?, ?it/s]"
      ]
     },
     "metadata": {},
     "output_type": "display_data"
    },
    {
     "data": {
      "application/vnd.jupyter.widget-view+json": {
       "model_id": "672c1303c3d7467387737285ee034537",
       "version_major": 2,
       "version_minor": 0
      },
      "text/plain": [
       "Validation: |          | 0/? [00:00<?, ?it/s]"
      ]
     },
     "metadata": {},
     "output_type": "display_data"
    },
    {
     "data": {
      "application/vnd.jupyter.widget-view+json": {
       "model_id": "ad6b337e6dfd47d0bafcf7a9eaf21bf6",
       "version_major": 2,
       "version_minor": 0
      },
      "text/plain": [
       "Validation: |          | 0/? [00:00<?, ?it/s]"
      ]
     },
     "metadata": {},
     "output_type": "display_data"
    },
    {
     "data": {
      "application/vnd.jupyter.widget-view+json": {
       "model_id": "f5ed48b8f841495882669d24f5b30e3b",
       "version_major": 2,
       "version_minor": 0
      },
      "text/plain": [
       "Validation: |          | 0/? [00:00<?, ?it/s]"
      ]
     },
     "metadata": {},
     "output_type": "display_data"
    },
    {
     "data": {
      "application/vnd.jupyter.widget-view+json": {
       "model_id": "ac96f53fefdb4851aee7c292153ead7f",
       "version_major": 2,
       "version_minor": 0
      },
      "text/plain": [
       "Validation: |          | 0/? [00:00<?, ?it/s]"
      ]
     },
     "metadata": {},
     "output_type": "display_data"
    },
    {
     "data": {
      "application/vnd.jupyter.widget-view+json": {
       "model_id": "24a3422e9ee64c5d8cf058c29325c7c1",
       "version_major": 2,
       "version_minor": 0
      },
      "text/plain": [
       "Validation: |          | 0/? [00:00<?, ?it/s]"
      ]
     },
     "metadata": {},
     "output_type": "display_data"
    },
    {
     "data": {
      "application/vnd.jupyter.widget-view+json": {
       "model_id": "5d836811ba4d4207986a713fef4c7cb1",
       "version_major": 2,
       "version_minor": 0
      },
      "text/plain": [
       "Validation: |          | 0/? [00:00<?, ?it/s]"
      ]
     },
     "metadata": {},
     "output_type": "display_data"
    },
    {
     "data": {
      "application/vnd.jupyter.widget-view+json": {
       "model_id": "f3c98c9f57d84c5791e9e61f1ef878f9",
       "version_major": 2,
       "version_minor": 0
      },
      "text/plain": [
       "Validation: |          | 0/? [00:00<?, ?it/s]"
      ]
     },
     "metadata": {},
     "output_type": "display_data"
    },
    {
     "data": {
      "application/vnd.jupyter.widget-view+json": {
       "model_id": "23f50698a98245fb8ad467e1e2698dec",
       "version_major": 2,
       "version_minor": 0
      },
      "text/plain": [
       "Validation: |          | 0/? [00:00<?, ?it/s]"
      ]
     },
     "metadata": {},
     "output_type": "display_data"
    },
    {
     "data": {
      "application/vnd.jupyter.widget-view+json": {
       "model_id": "2c937b7f9c4b4523aa985465270add77",
       "version_major": 2,
       "version_minor": 0
      },
      "text/plain": [
       "Validation: |          | 0/? [00:00<?, ?it/s]"
      ]
     },
     "metadata": {},
     "output_type": "display_data"
    },
    {
     "data": {
      "application/vnd.jupyter.widget-view+json": {
       "model_id": "0f5f9725ca614bee88513bf54312366f",
       "version_major": 2,
       "version_minor": 0
      },
      "text/plain": [
       "Validation: |          | 0/? [00:00<?, ?it/s]"
      ]
     },
     "metadata": {},
     "output_type": "display_data"
    },
    {
     "data": {
      "application/vnd.jupyter.widget-view+json": {
       "model_id": "49c1907227394fa6ae16673c97bdc675",
       "version_major": 2,
       "version_minor": 0
      },
      "text/plain": [
       "Validation: |          | 0/? [00:00<?, ?it/s]"
      ]
     },
     "metadata": {},
     "output_type": "display_data"
    },
    {
     "data": {
      "application/vnd.jupyter.widget-view+json": {
       "model_id": "ec89ce8a4dba4c2bacaaa4cdb1955f3d",
       "version_major": 2,
       "version_minor": 0
      },
      "text/plain": [
       "Validation: |          | 0/? [00:00<?, ?it/s]"
      ]
     },
     "metadata": {},
     "output_type": "display_data"
    },
    {
     "data": {
      "application/vnd.jupyter.widget-view+json": {
       "model_id": "1e993d716cc5403b8f698013cb1a3d40",
       "version_major": 2,
       "version_minor": 0
      },
      "text/plain": [
       "Validation: |          | 0/? [00:00<?, ?it/s]"
      ]
     },
     "metadata": {},
     "output_type": "display_data"
    },
    {
     "data": {
      "application/vnd.jupyter.widget-view+json": {
       "model_id": "df9dd2b8168b4ba2b87046ed5a95d344",
       "version_major": 2,
       "version_minor": 0
      },
      "text/plain": [
       "Validation: |          | 0/? [00:00<?, ?it/s]"
      ]
     },
     "metadata": {},
     "output_type": "display_data"
    },
    {
     "data": {
      "application/vnd.jupyter.widget-view+json": {
       "model_id": "d49c443a7ded443bbcfaa4a2932300ff",
       "version_major": 2,
       "version_minor": 0
      },
      "text/plain": [
       "Validation: |          | 0/? [00:00<?, ?it/s]"
      ]
     },
     "metadata": {},
     "output_type": "display_data"
    },
    {
     "data": {
      "application/vnd.jupyter.widget-view+json": {
       "model_id": "b09a2e1ec1ec44d996737d165ab199d3",
       "version_major": 2,
       "version_minor": 0
      },
      "text/plain": [
       "Validation: |          | 0/? [00:00<?, ?it/s]"
      ]
     },
     "metadata": {},
     "output_type": "display_data"
    },
    {
     "data": {
      "application/vnd.jupyter.widget-view+json": {
       "model_id": "34ea9bc4160840e2ace2a910f53d61aa",
       "version_major": 2,
       "version_minor": 0
      },
      "text/plain": [
       "Validation: |          | 0/? [00:00<?, ?it/s]"
      ]
     },
     "metadata": {},
     "output_type": "display_data"
    },
    {
     "data": {
      "application/vnd.jupyter.widget-view+json": {
       "model_id": "c6649dab137b4ccbbe150b8d31194f2c",
       "version_major": 2,
       "version_minor": 0
      },
      "text/plain": [
       "Validation: |          | 0/? [00:00<?, ?it/s]"
      ]
     },
     "metadata": {},
     "output_type": "display_data"
    },
    {
     "data": {
      "application/vnd.jupyter.widget-view+json": {
       "model_id": "38f91fb5e6d94e8ebab6cf6996cba901",
       "version_major": 2,
       "version_minor": 0
      },
      "text/plain": [
       "Validation: |          | 0/? [00:00<?, ?it/s]"
      ]
     },
     "metadata": {},
     "output_type": "display_data"
    },
    {
     "data": {
      "application/vnd.jupyter.widget-view+json": {
       "model_id": "bf3e9aa38fca4fcba987ae6a579cde19",
       "version_major": 2,
       "version_minor": 0
      },
      "text/plain": [
       "Validation: |          | 0/? [00:00<?, ?it/s]"
      ]
     },
     "metadata": {},
     "output_type": "display_data"
    },
    {
     "data": {
      "application/vnd.jupyter.widget-view+json": {
       "model_id": "be5b96cc58fd42b8a01d6cc34fb19d07",
       "version_major": 2,
       "version_minor": 0
      },
      "text/plain": [
       "Validation: |          | 0/? [00:00<?, ?it/s]"
      ]
     },
     "metadata": {},
     "output_type": "display_data"
    },
    {
     "data": {
      "application/vnd.jupyter.widget-view+json": {
       "model_id": "706e2e620f9049938199577f8d7906ae",
       "version_major": 2,
       "version_minor": 0
      },
      "text/plain": [
       "Validation: |          | 0/? [00:00<?, ?it/s]"
      ]
     },
     "metadata": {},
     "output_type": "display_data"
    },
    {
     "data": {
      "application/vnd.jupyter.widget-view+json": {
       "model_id": "51728f12015840bea3c249e2c94d3959",
       "version_major": 2,
       "version_minor": 0
      },
      "text/plain": [
       "Validation: |          | 0/? [00:00<?, ?it/s]"
      ]
     },
     "metadata": {},
     "output_type": "display_data"
    },
    {
     "data": {
      "application/vnd.jupyter.widget-view+json": {
       "model_id": "e3d2c7e259c648cfbf9ddc776947775a",
       "version_major": 2,
       "version_minor": 0
      },
      "text/plain": [
       "Validation: |          | 0/? [00:00<?, ?it/s]"
      ]
     },
     "metadata": {},
     "output_type": "display_data"
    },
    {
     "data": {
      "application/vnd.jupyter.widget-view+json": {
       "model_id": "506ae6db359d4b8daa71e65f7c00ec76",
       "version_major": 2,
       "version_minor": 0
      },
      "text/plain": [
       "Validation: |          | 0/? [00:00<?, ?it/s]"
      ]
     },
     "metadata": {},
     "output_type": "display_data"
    },
    {
     "data": {
      "application/vnd.jupyter.widget-view+json": {
       "model_id": "338a5f15af92465cb648cec4f7a0e9be",
       "version_major": 2,
       "version_minor": 0
      },
      "text/plain": [
       "Validation: |          | 0/? [00:00<?, ?it/s]"
      ]
     },
     "metadata": {},
     "output_type": "display_data"
    },
    {
     "data": {
      "application/vnd.jupyter.widget-view+json": {
       "model_id": "ddc32a4fb2e240e792b5da18746b5f9f",
       "version_major": 2,
       "version_minor": 0
      },
      "text/plain": [
       "Validation: |          | 0/? [00:00<?, ?it/s]"
      ]
     },
     "metadata": {},
     "output_type": "display_data"
    },
    {
     "data": {
      "application/vnd.jupyter.widget-view+json": {
       "model_id": "d6a24ce1825b43bfb656d5ce29c553d3",
       "version_major": 2,
       "version_minor": 0
      },
      "text/plain": [
       "Validation: |          | 0/? [00:00<?, ?it/s]"
      ]
     },
     "metadata": {},
     "output_type": "display_data"
    },
    {
     "data": {
      "application/vnd.jupyter.widget-view+json": {
       "model_id": "486d4b1357ca4b9997656c47e3ad609a",
       "version_major": 2,
       "version_minor": 0
      },
      "text/plain": [
       "Validation: |          | 0/? [00:00<?, ?it/s]"
      ]
     },
     "metadata": {},
     "output_type": "display_data"
    },
    {
     "data": {
      "application/vnd.jupyter.widget-view+json": {
       "model_id": "c07aaee31d56417ab4757f79cff4aa3e",
       "version_major": 2,
       "version_minor": 0
      },
      "text/plain": [
       "Validation: |          | 0/? [00:00<?, ?it/s]"
      ]
     },
     "metadata": {},
     "output_type": "display_data"
    },
    {
     "data": {
      "application/vnd.jupyter.widget-view+json": {
       "model_id": "e04a7f0ca21049018ebaffe1aa97bd24",
       "version_major": 2,
       "version_minor": 0
      },
      "text/plain": [
       "Validation: |          | 0/? [00:00<?, ?it/s]"
      ]
     },
     "metadata": {},
     "output_type": "display_data"
    },
    {
     "data": {
      "application/vnd.jupyter.widget-view+json": {
       "model_id": "5f6ccb758cc041779fefb271d4c2e288",
       "version_major": 2,
       "version_minor": 0
      },
      "text/plain": [
       "Validation: |          | 0/? [00:00<?, ?it/s]"
      ]
     },
     "metadata": {},
     "output_type": "display_data"
    },
    {
     "data": {
      "application/vnd.jupyter.widget-view+json": {
       "model_id": "019cd1269a6744d997db29916d45ded2",
       "version_major": 2,
       "version_minor": 0
      },
      "text/plain": [
       "Validation: |          | 0/? [00:00<?, ?it/s]"
      ]
     },
     "metadata": {},
     "output_type": "display_data"
    },
    {
     "data": {
      "application/vnd.jupyter.widget-view+json": {
       "model_id": "ca93509f09e84c1c967cdc30afa83d86",
       "version_major": 2,
       "version_minor": 0
      },
      "text/plain": [
       "Validation: |          | 0/? [00:00<?, ?it/s]"
      ]
     },
     "metadata": {},
     "output_type": "display_data"
    },
    {
     "data": {
      "application/vnd.jupyter.widget-view+json": {
       "model_id": "22ed8ad6e1cb443293949ed02ef8c22e",
       "version_major": 2,
       "version_minor": 0
      },
      "text/plain": [
       "Validation: |          | 0/? [00:00<?, ?it/s]"
      ]
     },
     "metadata": {},
     "output_type": "display_data"
    },
    {
     "data": {
      "application/vnd.jupyter.widget-view+json": {
       "model_id": "bf34e12f4a6c43dfa36ee78177ff3649",
       "version_major": 2,
       "version_minor": 0
      },
      "text/plain": [
       "Validation: |          | 0/? [00:00<?, ?it/s]"
      ]
     },
     "metadata": {},
     "output_type": "display_data"
    },
    {
     "data": {
      "application/vnd.jupyter.widget-view+json": {
       "model_id": "bcaf93ea29a64191944e8b5949796526",
       "version_major": 2,
       "version_minor": 0
      },
      "text/plain": [
       "Validation: |          | 0/? [00:00<?, ?it/s]"
      ]
     },
     "metadata": {},
     "output_type": "display_data"
    },
    {
     "data": {
      "application/vnd.jupyter.widget-view+json": {
       "model_id": "c25b141b68284ea28cafb5565bdc63fd",
       "version_major": 2,
       "version_minor": 0
      },
      "text/plain": [
       "Validation: |          | 0/? [00:00<?, ?it/s]"
      ]
     },
     "metadata": {},
     "output_type": "display_data"
    },
    {
     "data": {
      "application/vnd.jupyter.widget-view+json": {
       "model_id": "7816860932fe480db891270a369797f1",
       "version_major": 2,
       "version_minor": 0
      },
      "text/plain": [
       "Validation: |          | 0/? [00:00<?, ?it/s]"
      ]
     },
     "metadata": {},
     "output_type": "display_data"
    },
    {
     "data": {
      "application/vnd.jupyter.widget-view+json": {
       "model_id": "9c7dcab82e6246ffa8a5425326ad2656",
       "version_major": 2,
       "version_minor": 0
      },
      "text/plain": [
       "Validation: |          | 0/? [00:00<?, ?it/s]"
      ]
     },
     "metadata": {},
     "output_type": "display_data"
    },
    {
     "data": {
      "application/vnd.jupyter.widget-view+json": {
       "model_id": "8c38a5c338d74e71b377d25d2be3beb9",
       "version_major": 2,
       "version_minor": 0
      },
      "text/plain": [
       "Validation: |          | 0/? [00:00<?, ?it/s]"
      ]
     },
     "metadata": {},
     "output_type": "display_data"
    },
    {
     "data": {
      "application/vnd.jupyter.widget-view+json": {
       "model_id": "c818443c5fa94ac494b7294495042037",
       "version_major": 2,
       "version_minor": 0
      },
      "text/plain": [
       "Validation: |          | 0/? [00:00<?, ?it/s]"
      ]
     },
     "metadata": {},
     "output_type": "display_data"
    },
    {
     "data": {
      "application/vnd.jupyter.widget-view+json": {
       "model_id": "4c002254cdb34bf99acd7f52bc5a4cea",
       "version_major": 2,
       "version_minor": 0
      },
      "text/plain": [
       "Validation: |          | 0/? [00:00<?, ?it/s]"
      ]
     },
     "metadata": {},
     "output_type": "display_data"
    },
    {
     "data": {
      "application/vnd.jupyter.widget-view+json": {
       "model_id": "304d154285734e1e80ed83eb295e1db4",
       "version_major": 2,
       "version_minor": 0
      },
      "text/plain": [
       "Validation: |          | 0/? [00:00<?, ?it/s]"
      ]
     },
     "metadata": {},
     "output_type": "display_data"
    },
    {
     "data": {
      "application/vnd.jupyter.widget-view+json": {
       "model_id": "67de2c78ab084a1db05c4bfd81b19488",
       "version_major": 2,
       "version_minor": 0
      },
      "text/plain": [
       "Validation: |          | 0/? [00:00<?, ?it/s]"
      ]
     },
     "metadata": {},
     "output_type": "display_data"
    },
    {
     "data": {
      "application/vnd.jupyter.widget-view+json": {
       "model_id": "565beb753b174cb1b19cd6300cff8fa6",
       "version_major": 2,
       "version_minor": 0
      },
      "text/plain": [
       "Validation: |          | 0/? [00:00<?, ?it/s]"
      ]
     },
     "metadata": {},
     "output_type": "display_data"
    },
    {
     "data": {
      "application/vnd.jupyter.widget-view+json": {
       "model_id": "c5b43a8f5c0445d5a24d376b479c9f2b",
       "version_major": 2,
       "version_minor": 0
      },
      "text/plain": [
       "Validation: |          | 0/? [00:00<?, ?it/s]"
      ]
     },
     "metadata": {},
     "output_type": "display_data"
    },
    {
     "data": {
      "application/vnd.jupyter.widget-view+json": {
       "model_id": "252777e3a7574ffaaa33e3e6b2f5d43a",
       "version_major": 2,
       "version_minor": 0
      },
      "text/plain": [
       "Validation: |          | 0/? [00:00<?, ?it/s]"
      ]
     },
     "metadata": {},
     "output_type": "display_data"
    },
    {
     "data": {
      "application/vnd.jupyter.widget-view+json": {
       "model_id": "57b732c600da4f49a198d433d46b1119",
       "version_major": 2,
       "version_minor": 0
      },
      "text/plain": [
       "Validation: |          | 0/? [00:00<?, ?it/s]"
      ]
     },
     "metadata": {},
     "output_type": "display_data"
    },
    {
     "data": {
      "application/vnd.jupyter.widget-view+json": {
       "model_id": "171fbfefad3f4ffb90612f7a32712da2",
       "version_major": 2,
       "version_minor": 0
      },
      "text/plain": [
       "Validation: |          | 0/? [00:00<?, ?it/s]"
      ]
     },
     "metadata": {},
     "output_type": "display_data"
    },
    {
     "data": {
      "application/vnd.jupyter.widget-view+json": {
       "model_id": "a85d0062d22945bdb5e6a9e258ee74b5",
       "version_major": 2,
       "version_minor": 0
      },
      "text/plain": [
       "Validation: |          | 0/? [00:00<?, ?it/s]"
      ]
     },
     "metadata": {},
     "output_type": "display_data"
    },
    {
     "data": {
      "application/vnd.jupyter.widget-view+json": {
       "model_id": "77bf232d2eb849a3aa3ca6be194251c6",
       "version_major": 2,
       "version_minor": 0
      },
      "text/plain": [
       "Validation: |          | 0/? [00:00<?, ?it/s]"
      ]
     },
     "metadata": {},
     "output_type": "display_data"
    },
    {
     "data": {
      "application/vnd.jupyter.widget-view+json": {
       "model_id": "94c987dff8e6493f93bb07d58b15cda3",
       "version_major": 2,
       "version_minor": 0
      },
      "text/plain": [
       "Validation: |          | 0/? [00:00<?, ?it/s]"
      ]
     },
     "metadata": {},
     "output_type": "display_data"
    },
    {
     "data": {
      "application/vnd.jupyter.widget-view+json": {
       "model_id": "bd672152291545b2800e241fde0cea99",
       "version_major": 2,
       "version_minor": 0
      },
      "text/plain": [
       "Validation: |          | 0/? [00:00<?, ?it/s]"
      ]
     },
     "metadata": {},
     "output_type": "display_data"
    },
    {
     "data": {
      "application/vnd.jupyter.widget-view+json": {
       "model_id": "f576b25fa8f94b1f9739d284ac768f8f",
       "version_major": 2,
       "version_minor": 0
      },
      "text/plain": [
       "Validation: |          | 0/? [00:00<?, ?it/s]"
      ]
     },
     "metadata": {},
     "output_type": "display_data"
    },
    {
     "data": {
      "application/vnd.jupyter.widget-view+json": {
       "model_id": "f1dd1c89f55e45ed8bb5083a29dd33df",
       "version_major": 2,
       "version_minor": 0
      },
      "text/plain": [
       "Validation: |          | 0/? [00:00<?, ?it/s]"
      ]
     },
     "metadata": {},
     "output_type": "display_data"
    },
    {
     "data": {
      "application/vnd.jupyter.widget-view+json": {
       "model_id": "4a3b15ef34fb405882652846cff27821",
       "version_major": 2,
       "version_minor": 0
      },
      "text/plain": [
       "Validation: |          | 0/? [00:00<?, ?it/s]"
      ]
     },
     "metadata": {},
     "output_type": "display_data"
    },
    {
     "data": {
      "application/vnd.jupyter.widget-view+json": {
       "model_id": "9083cde501444b2c991fcfa04e72b0e3",
       "version_major": 2,
       "version_minor": 0
      },
      "text/plain": [
       "Validation: |          | 0/? [00:00<?, ?it/s]"
      ]
     },
     "metadata": {},
     "output_type": "display_data"
    },
    {
     "data": {
      "application/vnd.jupyter.widget-view+json": {
       "model_id": "576669024b2c4889b2fb52e8cb7e2fc0",
       "version_major": 2,
       "version_minor": 0
      },
      "text/plain": [
       "Validation: |          | 0/? [00:00<?, ?it/s]"
      ]
     },
     "metadata": {},
     "output_type": "display_data"
    },
    {
     "data": {
      "application/vnd.jupyter.widget-view+json": {
       "model_id": "49ebe303ce2d4df89e91a892203d8559",
       "version_major": 2,
       "version_minor": 0
      },
      "text/plain": [
       "Validation: |          | 0/? [00:00<?, ?it/s]"
      ]
     },
     "metadata": {},
     "output_type": "display_data"
    },
    {
     "data": {
      "application/vnd.jupyter.widget-view+json": {
       "model_id": "8d8925e1cd114a7cbf66dfd71693a533",
       "version_major": 2,
       "version_minor": 0
      },
      "text/plain": [
       "Validation: |          | 0/? [00:00<?, ?it/s]"
      ]
     },
     "metadata": {},
     "output_type": "display_data"
    },
    {
     "data": {
      "application/vnd.jupyter.widget-view+json": {
       "model_id": "874ae92938d94e38b02fdf695bab0f88",
       "version_major": 2,
       "version_minor": 0
      },
      "text/plain": [
       "Validation: |          | 0/? [00:00<?, ?it/s]"
      ]
     },
     "metadata": {},
     "output_type": "display_data"
    },
    {
     "data": {
      "application/vnd.jupyter.widget-view+json": {
       "model_id": "e76380eb301c488ea50e268951b4be9b",
       "version_major": 2,
       "version_minor": 0
      },
      "text/plain": [
       "Validation: |          | 0/? [00:00<?, ?it/s]"
      ]
     },
     "metadata": {},
     "output_type": "display_data"
    },
    {
     "data": {
      "application/vnd.jupyter.widget-view+json": {
       "model_id": "3886aafaf35e4a7580fba75d7477ba1b",
       "version_major": 2,
       "version_minor": 0
      },
      "text/plain": [
       "Validation: |          | 0/? [00:00<?, ?it/s]"
      ]
     },
     "metadata": {},
     "output_type": "display_data"
    },
    {
     "data": {
      "application/vnd.jupyter.widget-view+json": {
       "model_id": "eacca106c709492fba281843b7d6849a",
       "version_major": 2,
       "version_minor": 0
      },
      "text/plain": [
       "Validation: |          | 0/? [00:00<?, ?it/s]"
      ]
     },
     "metadata": {},
     "output_type": "display_data"
    },
    {
     "data": {
      "application/vnd.jupyter.widget-view+json": {
       "model_id": "aad68a8eb3dd4f15bc516ea8c7ea7233",
       "version_major": 2,
       "version_minor": 0
      },
      "text/plain": [
       "Validation: |          | 0/? [00:00<?, ?it/s]"
      ]
     },
     "metadata": {},
     "output_type": "display_data"
    },
    {
     "data": {
      "application/vnd.jupyter.widget-view+json": {
       "model_id": "4c878719f22e433781516416c1cc3566",
       "version_major": 2,
       "version_minor": 0
      },
      "text/plain": [
       "Validation: |          | 0/? [00:00<?, ?it/s]"
      ]
     },
     "metadata": {},
     "output_type": "display_data"
    },
    {
     "data": {
      "application/vnd.jupyter.widget-view+json": {
       "model_id": "db6647a2f3754b4286e308464083ed73",
       "version_major": 2,
       "version_minor": 0
      },
      "text/plain": [
       "Validation: |          | 0/? [00:00<?, ?it/s]"
      ]
     },
     "metadata": {},
     "output_type": "display_data"
    },
    {
     "data": {
      "application/vnd.jupyter.widget-view+json": {
       "model_id": "6ebedda5aaca44f39bce9d4aeae86a0e",
       "version_major": 2,
       "version_minor": 0
      },
      "text/plain": [
       "Validation: |          | 0/? [00:00<?, ?it/s]"
      ]
     },
     "metadata": {},
     "output_type": "display_data"
    },
    {
     "data": {
      "application/vnd.jupyter.widget-view+json": {
       "model_id": "aa89207c92524b65b183d9eedbef0984",
       "version_major": 2,
       "version_minor": 0
      },
      "text/plain": [
       "Validation: |          | 0/? [00:00<?, ?it/s]"
      ]
     },
     "metadata": {},
     "output_type": "display_data"
    },
    {
     "data": {
      "application/vnd.jupyter.widget-view+json": {
       "model_id": "69ce922e99584eb2b0a2058648ae4cb2",
       "version_major": 2,
       "version_minor": 0
      },
      "text/plain": [
       "Validation: |          | 0/? [00:00<?, ?it/s]"
      ]
     },
     "metadata": {},
     "output_type": "display_data"
    },
    {
     "data": {
      "application/vnd.jupyter.widget-view+json": {
       "model_id": "45d49443d6a0463eb320b88def4f88fd",
       "version_major": 2,
       "version_minor": 0
      },
      "text/plain": [
       "Validation: |          | 0/? [00:00<?, ?it/s]"
      ]
     },
     "metadata": {},
     "output_type": "display_data"
    },
    {
     "data": {
      "application/vnd.jupyter.widget-view+json": {
       "model_id": "f3b90e554b19466487cc9d525c432d20",
       "version_major": 2,
       "version_minor": 0
      },
      "text/plain": [
       "Validation: |          | 0/? [00:00<?, ?it/s]"
      ]
     },
     "metadata": {},
     "output_type": "display_data"
    },
    {
     "data": {
      "application/vnd.jupyter.widget-view+json": {
       "model_id": "edcb62449c1d4473996c0c0cae36d4f3",
       "version_major": 2,
       "version_minor": 0
      },
      "text/plain": [
       "Validation: |          | 0/? [00:00<?, ?it/s]"
      ]
     },
     "metadata": {},
     "output_type": "display_data"
    },
    {
     "data": {
      "application/vnd.jupyter.widget-view+json": {
       "model_id": "0dc9f89dbaa74e44a71eb2c1c0573544",
       "version_major": 2,
       "version_minor": 0
      },
      "text/plain": [
       "Validation: |          | 0/? [00:00<?, ?it/s]"
      ]
     },
     "metadata": {},
     "output_type": "display_data"
    },
    {
     "data": {
      "application/vnd.jupyter.widget-view+json": {
       "model_id": "68c78e0ae37d4becbc957b84831c4bab",
       "version_major": 2,
       "version_minor": 0
      },
      "text/plain": [
       "Validation: |          | 0/? [00:00<?, ?it/s]"
      ]
     },
     "metadata": {},
     "output_type": "display_data"
    },
    {
     "data": {
      "application/vnd.jupyter.widget-view+json": {
       "model_id": "b3987ae3f14940a3bcbebd9a369f2552",
       "version_major": 2,
       "version_minor": 0
      },
      "text/plain": [
       "Validation: |          | 0/? [00:00<?, ?it/s]"
      ]
     },
     "metadata": {},
     "output_type": "display_data"
    },
    {
     "data": {
      "application/vnd.jupyter.widget-view+json": {
       "model_id": "17d2b88fc5654f4194bb440ddc88418a",
       "version_major": 2,
       "version_minor": 0
      },
      "text/plain": [
       "Validation: |          | 0/? [00:00<?, ?it/s]"
      ]
     },
     "metadata": {},
     "output_type": "display_data"
    },
    {
     "data": {
      "application/vnd.jupyter.widget-view+json": {
       "model_id": "665fbc3e7be949ccbde2da98e62986fb",
       "version_major": 2,
       "version_minor": 0
      },
      "text/plain": [
       "Validation: |          | 0/? [00:00<?, ?it/s]"
      ]
     },
     "metadata": {},
     "output_type": "display_data"
    },
    {
     "data": {
      "application/vnd.jupyter.widget-view+json": {
       "model_id": "91acf85628b94acdb48c85bddd2107cd",
       "version_major": 2,
       "version_minor": 0
      },
      "text/plain": [
       "Validation: |          | 0/? [00:00<?, ?it/s]"
      ]
     },
     "metadata": {},
     "output_type": "display_data"
    },
    {
     "data": {
      "application/vnd.jupyter.widget-view+json": {
       "model_id": "1cf4e00467454de4aeea4d8b7f2bfa31",
       "version_major": 2,
       "version_minor": 0
      },
      "text/plain": [
       "Validation: |          | 0/? [00:00<?, ?it/s]"
      ]
     },
     "metadata": {},
     "output_type": "display_data"
    },
    {
     "data": {
      "application/vnd.jupyter.widget-view+json": {
       "model_id": "f4c675d3943e4657b4a63eefd81fee05",
       "version_major": 2,
       "version_minor": 0
      },
      "text/plain": [
       "Validation: |          | 0/? [00:00<?, ?it/s]"
      ]
     },
     "metadata": {},
     "output_type": "display_data"
    },
    {
     "data": {
      "application/vnd.jupyter.widget-view+json": {
       "model_id": "16449d0cfb484dc5ba09b1f79f31f9aa",
       "version_major": 2,
       "version_minor": 0
      },
      "text/plain": [
       "Validation: |          | 0/? [00:00<?, ?it/s]"
      ]
     },
     "metadata": {},
     "output_type": "display_data"
    },
    {
     "data": {
      "application/vnd.jupyter.widget-view+json": {
       "model_id": "c1248a795d8b47d883dc57acc074a3a5",
       "version_major": 2,
       "version_minor": 0
      },
      "text/plain": [
       "Validation: |          | 0/? [00:00<?, ?it/s]"
      ]
     },
     "metadata": {},
     "output_type": "display_data"
    },
    {
     "data": {
      "application/vnd.jupyter.widget-view+json": {
       "model_id": "02d254514e2b4fdaa8a7743b6301fc3f",
       "version_major": 2,
       "version_minor": 0
      },
      "text/plain": [
       "Validation: |          | 0/? [00:00<?, ?it/s]"
      ]
     },
     "metadata": {},
     "output_type": "display_data"
    },
    {
     "data": {
      "application/vnd.jupyter.widget-view+json": {
       "model_id": "b040eecbeb184c2c886934d3d336349d",
       "version_major": 2,
       "version_minor": 0
      },
      "text/plain": [
       "Validation: |          | 0/? [00:00<?, ?it/s]"
      ]
     },
     "metadata": {},
     "output_type": "display_data"
    },
    {
     "data": {
      "application/vnd.jupyter.widget-view+json": {
       "model_id": "2d8c55eedf104e73b98c69bae4fd2b33",
       "version_major": 2,
       "version_minor": 0
      },
      "text/plain": [
       "Validation: |          | 0/? [00:00<?, ?it/s]"
      ]
     },
     "metadata": {},
     "output_type": "display_data"
    },
    {
     "data": {
      "application/vnd.jupyter.widget-view+json": {
       "model_id": "834af43a3cdb44018d4803a8dd536d08",
       "version_major": 2,
       "version_minor": 0
      },
      "text/plain": [
       "Validation: |          | 0/? [00:00<?, ?it/s]"
      ]
     },
     "metadata": {},
     "output_type": "display_data"
    },
    {
     "data": {
      "application/vnd.jupyter.widget-view+json": {
       "model_id": "d52070def6cd4c07ab16caad0071b8a5",
       "version_major": 2,
       "version_minor": 0
      },
      "text/plain": [
       "Validation: |          | 0/? [00:00<?, ?it/s]"
      ]
     },
     "metadata": {},
     "output_type": "display_data"
    },
    {
     "data": {
      "application/vnd.jupyter.widget-view+json": {
       "model_id": "facd1851f12544389a0148aaea6469b3",
       "version_major": 2,
       "version_minor": 0
      },
      "text/plain": [
       "Validation: |          | 0/? [00:00<?, ?it/s]"
      ]
     },
     "metadata": {},
     "output_type": "display_data"
    },
    {
     "data": {
      "application/vnd.jupyter.widget-view+json": {
       "model_id": "d8df7f4e83044d8e9f4af2ba7fe80959",
       "version_major": 2,
       "version_minor": 0
      },
      "text/plain": [
       "Validation: |          | 0/? [00:00<?, ?it/s]"
      ]
     },
     "metadata": {},
     "output_type": "display_data"
    },
    {
     "data": {
      "application/vnd.jupyter.widget-view+json": {
       "model_id": "cf19d555356a4359934e9dcb5186470b",
       "version_major": 2,
       "version_minor": 0
      },
      "text/plain": [
       "Validation: |          | 0/? [00:00<?, ?it/s]"
      ]
     },
     "metadata": {},
     "output_type": "display_data"
    },
    {
     "data": {
      "application/vnd.jupyter.widget-view+json": {
       "model_id": "0af30a9e556044ba884a9957b2c94682",
       "version_major": 2,
       "version_minor": 0
      },
      "text/plain": [
       "Validation: |          | 0/? [00:00<?, ?it/s]"
      ]
     },
     "metadata": {},
     "output_type": "display_data"
    },
    {
     "data": {
      "application/vnd.jupyter.widget-view+json": {
       "model_id": "0ede876d87974e0d9c0fe90a2af3d250",
       "version_major": 2,
       "version_minor": 0
      },
      "text/plain": [
       "Validation: |          | 0/? [00:00<?, ?it/s]"
      ]
     },
     "metadata": {},
     "output_type": "display_data"
    },
    {
     "data": {
      "application/vnd.jupyter.widget-view+json": {
       "model_id": "7abe589670e448b6b024010b5d835b08",
       "version_major": 2,
       "version_minor": 0
      },
      "text/plain": [
       "Validation: |          | 0/? [00:00<?, ?it/s]"
      ]
     },
     "metadata": {},
     "output_type": "display_data"
    },
    {
     "data": {
      "application/vnd.jupyter.widget-view+json": {
       "model_id": "ec677857632e41d1bf3c02d2acc39328",
       "version_major": 2,
       "version_minor": 0
      },
      "text/plain": [
       "Validation: |          | 0/? [00:00<?, ?it/s]"
      ]
     },
     "metadata": {},
     "output_type": "display_data"
    },
    {
     "data": {
      "application/vnd.jupyter.widget-view+json": {
       "model_id": "a74aeaffd86e457fa2043eefd55319d9",
       "version_major": 2,
       "version_minor": 0
      },
      "text/plain": [
       "Validation: |          | 0/? [00:00<?, ?it/s]"
      ]
     },
     "metadata": {},
     "output_type": "display_data"
    },
    {
     "data": {
      "application/vnd.jupyter.widget-view+json": {
       "model_id": "6cb8d7e8142d4cdd8665cacca9cb30e5",
       "version_major": 2,
       "version_minor": 0
      },
      "text/plain": [
       "Validation: |          | 0/? [00:00<?, ?it/s]"
      ]
     },
     "metadata": {},
     "output_type": "display_data"
    },
    {
     "data": {
      "application/vnd.jupyter.widget-view+json": {
       "model_id": "64d0305190d84ba2b7791413f4b68e91",
       "version_major": 2,
       "version_minor": 0
      },
      "text/plain": [
       "Validation: |          | 0/? [00:00<?, ?it/s]"
      ]
     },
     "metadata": {},
     "output_type": "display_data"
    },
    {
     "data": {
      "application/vnd.jupyter.widget-view+json": {
       "model_id": "8ea53cae6030427583ce494b33453db7",
       "version_major": 2,
       "version_minor": 0
      },
      "text/plain": [
       "Validation: |          | 0/? [00:00<?, ?it/s]"
      ]
     },
     "metadata": {},
     "output_type": "display_data"
    },
    {
     "data": {
      "application/vnd.jupyter.widget-view+json": {
       "model_id": "12d991fa0e5642de9d4ff4d185533e9a",
       "version_major": 2,
       "version_minor": 0
      },
      "text/plain": [
       "Validation: |          | 0/? [00:00<?, ?it/s]"
      ]
     },
     "metadata": {},
     "output_type": "display_data"
    },
    {
     "data": {
      "application/vnd.jupyter.widget-view+json": {
       "model_id": "f6918491479e43acae10a24d03c32536",
       "version_major": 2,
       "version_minor": 0
      },
      "text/plain": [
       "Validation: |          | 0/? [00:00<?, ?it/s]"
      ]
     },
     "metadata": {},
     "output_type": "display_data"
    },
    {
     "data": {
      "application/vnd.jupyter.widget-view+json": {
       "model_id": "eac305b57a6e4a67b3f81fd6c5bf8790",
       "version_major": 2,
       "version_minor": 0
      },
      "text/plain": [
       "Validation: |          | 0/? [00:00<?, ?it/s]"
      ]
     },
     "metadata": {},
     "output_type": "display_data"
    },
    {
     "data": {
      "application/vnd.jupyter.widget-view+json": {
       "model_id": "70d63b3c832641f287501e26d2624bcb",
       "version_major": 2,
       "version_minor": 0
      },
      "text/plain": [
       "Validation: |          | 0/? [00:00<?, ?it/s]"
      ]
     },
     "metadata": {},
     "output_type": "display_data"
    },
    {
     "data": {
      "application/vnd.jupyter.widget-view+json": {
       "model_id": "6e0d2d6f84fb47c180e0ee14b3412253",
       "version_major": 2,
       "version_minor": 0
      },
      "text/plain": [
       "Validation: |          | 0/? [00:00<?, ?it/s]"
      ]
     },
     "metadata": {},
     "output_type": "display_data"
    },
    {
     "data": {
      "application/vnd.jupyter.widget-view+json": {
       "model_id": "06c7d94888ff4017a83082faaaee55f5",
       "version_major": 2,
       "version_minor": 0
      },
      "text/plain": [
       "Validation: |          | 0/? [00:00<?, ?it/s]"
      ]
     },
     "metadata": {},
     "output_type": "display_data"
    },
    {
     "data": {
      "application/vnd.jupyter.widget-view+json": {
       "model_id": "ed0707f69f864a699908dd9059998876",
       "version_major": 2,
       "version_minor": 0
      },
      "text/plain": [
       "Validation: |          | 0/? [00:00<?, ?it/s]"
      ]
     },
     "metadata": {},
     "output_type": "display_data"
    },
    {
     "data": {
      "application/vnd.jupyter.widget-view+json": {
       "model_id": "e946019ffdd241bca3042e90893564d1",
       "version_major": 2,
       "version_minor": 0
      },
      "text/plain": [
       "Validation: |          | 0/? [00:00<?, ?it/s]"
      ]
     },
     "metadata": {},
     "output_type": "display_data"
    },
    {
     "data": {
      "application/vnd.jupyter.widget-view+json": {
       "model_id": "5ea287b5ffc046258d12d64c641137c1",
       "version_major": 2,
       "version_minor": 0
      },
      "text/plain": [
       "Validation: |          | 0/? [00:00<?, ?it/s]"
      ]
     },
     "metadata": {},
     "output_type": "display_data"
    },
    {
     "data": {
      "application/vnd.jupyter.widget-view+json": {
       "model_id": "86348c89726b4695b3e0189c623e1e18",
       "version_major": 2,
       "version_minor": 0
      },
      "text/plain": [
       "Validation: |          | 0/? [00:00<?, ?it/s]"
      ]
     },
     "metadata": {},
     "output_type": "display_data"
    },
    {
     "data": {
      "application/vnd.jupyter.widget-view+json": {
       "model_id": "177b49343ea048daa39a58384c2a2061",
       "version_major": 2,
       "version_minor": 0
      },
      "text/plain": [
       "Validation: |          | 0/? [00:00<?, ?it/s]"
      ]
     },
     "metadata": {},
     "output_type": "display_data"
    },
    {
     "data": {
      "application/vnd.jupyter.widget-view+json": {
       "model_id": "609f476a21bf4a7d9282c3414b5c84e3",
       "version_major": 2,
       "version_minor": 0
      },
      "text/plain": [
       "Validation: |          | 0/? [00:00<?, ?it/s]"
      ]
     },
     "metadata": {},
     "output_type": "display_data"
    },
    {
     "data": {
      "application/vnd.jupyter.widget-view+json": {
       "model_id": "4405e8a11ddb4496a3b6f73ac574aa9f",
       "version_major": 2,
       "version_minor": 0
      },
      "text/plain": [
       "Validation: |          | 0/? [00:00<?, ?it/s]"
      ]
     },
     "metadata": {},
     "output_type": "display_data"
    },
    {
     "data": {
      "application/vnd.jupyter.widget-view+json": {
       "model_id": "070af86f984f42bcb743d5f7a248fd77",
       "version_major": 2,
       "version_minor": 0
      },
      "text/plain": [
       "Validation: |          | 0/? [00:00<?, ?it/s]"
      ]
     },
     "metadata": {},
     "output_type": "display_data"
    },
    {
     "data": {
      "application/vnd.jupyter.widget-view+json": {
       "model_id": "5f691fcafa974b06a7d5caf66bbda9a0",
       "version_major": 2,
       "version_minor": 0
      },
      "text/plain": [
       "Validation: |          | 0/? [00:00<?, ?it/s]"
      ]
     },
     "metadata": {},
     "output_type": "display_data"
    },
    {
     "data": {
      "application/vnd.jupyter.widget-view+json": {
       "model_id": "f355f7a35df54f49acc1514f507b8945",
       "version_major": 2,
       "version_minor": 0
      },
      "text/plain": [
       "Validation: |          | 0/? [00:00<?, ?it/s]"
      ]
     },
     "metadata": {},
     "output_type": "display_data"
    },
    {
     "data": {
      "application/vnd.jupyter.widget-view+json": {
       "model_id": "741e885664fb4997ba85b76c1e28d511",
       "version_major": 2,
       "version_minor": 0
      },
      "text/plain": [
       "Validation: |          | 0/? [00:00<?, ?it/s]"
      ]
     },
     "metadata": {},
     "output_type": "display_data"
    },
    {
     "data": {
      "application/vnd.jupyter.widget-view+json": {
       "model_id": "2ab7bc7334c44989826b423dc92b21ee",
       "version_major": 2,
       "version_minor": 0
      },
      "text/plain": [
       "Validation: |          | 0/? [00:00<?, ?it/s]"
      ]
     },
     "metadata": {},
     "output_type": "display_data"
    },
    {
     "data": {
      "application/vnd.jupyter.widget-view+json": {
       "model_id": "4ea6822ad8de416e98313db0c5e5eb38",
       "version_major": 2,
       "version_minor": 0
      },
      "text/plain": [
       "Validation: |          | 0/? [00:00<?, ?it/s]"
      ]
     },
     "metadata": {},
     "output_type": "display_data"
    },
    {
     "data": {
      "application/vnd.jupyter.widget-view+json": {
       "model_id": "14aa0388ad734cd7b41464a59989f981",
       "version_major": 2,
       "version_minor": 0
      },
      "text/plain": [
       "Validation: |          | 0/? [00:00<?, ?it/s]"
      ]
     },
     "metadata": {},
     "output_type": "display_data"
    },
    {
     "data": {
      "application/vnd.jupyter.widget-view+json": {
       "model_id": "c79e38b808814574a92e3d3e9a1e2cee",
       "version_major": 2,
       "version_minor": 0
      },
      "text/plain": [
       "Validation: |          | 0/? [00:00<?, ?it/s]"
      ]
     },
     "metadata": {},
     "output_type": "display_data"
    },
    {
     "data": {
      "application/vnd.jupyter.widget-view+json": {
       "model_id": "be8c08e69bd84218903b2e2490c8e8f3",
       "version_major": 2,
       "version_minor": 0
      },
      "text/plain": [
       "Validation: |          | 0/? [00:00<?, ?it/s]"
      ]
     },
     "metadata": {},
     "output_type": "display_data"
    },
    {
     "data": {
      "application/vnd.jupyter.widget-view+json": {
       "model_id": "b6739218c68640b98ee7630882464cff",
       "version_major": 2,
       "version_minor": 0
      },
      "text/plain": [
       "Validation: |          | 0/? [00:00<?, ?it/s]"
      ]
     },
     "metadata": {},
     "output_type": "display_data"
    },
    {
     "data": {
      "application/vnd.jupyter.widget-view+json": {
       "model_id": "20998e44692644bd90ec68b9b25cd1ac",
       "version_major": 2,
       "version_minor": 0
      },
      "text/plain": [
       "Validation: |          | 0/? [00:00<?, ?it/s]"
      ]
     },
     "metadata": {},
     "output_type": "display_data"
    },
    {
     "data": {
      "application/vnd.jupyter.widget-view+json": {
       "model_id": "700285e041234a8f9103a43252056b75",
       "version_major": 2,
       "version_minor": 0
      },
      "text/plain": [
       "Validation: |          | 0/? [00:00<?, ?it/s]"
      ]
     },
     "metadata": {},
     "output_type": "display_data"
    },
    {
     "data": {
      "application/vnd.jupyter.widget-view+json": {
       "model_id": "02b585aebc6241e88538bb468405215f",
       "version_major": 2,
       "version_minor": 0
      },
      "text/plain": [
       "Validation: |          | 0/? [00:00<?, ?it/s]"
      ]
     },
     "metadata": {},
     "output_type": "display_data"
    },
    {
     "data": {
      "application/vnd.jupyter.widget-view+json": {
       "model_id": "0f6f7096aa9f475583dc19dd1fc095e8",
       "version_major": 2,
       "version_minor": 0
      },
      "text/plain": [
       "Validation: |          | 0/? [00:00<?, ?it/s]"
      ]
     },
     "metadata": {},
     "output_type": "display_data"
    },
    {
     "data": {
      "application/vnd.jupyter.widget-view+json": {
       "model_id": "347907834f5a4dedac5873d1880f2862",
       "version_major": 2,
       "version_minor": 0
      },
      "text/plain": [
       "Validation: |          | 0/? [00:00<?, ?it/s]"
      ]
     },
     "metadata": {},
     "output_type": "display_data"
    },
    {
     "data": {
      "application/vnd.jupyter.widget-view+json": {
       "model_id": "58cd2868fbb348e2aafb640696237b32",
       "version_major": 2,
       "version_minor": 0
      },
      "text/plain": [
       "Validation: |          | 0/? [00:00<?, ?it/s]"
      ]
     },
     "metadata": {},
     "output_type": "display_data"
    },
    {
     "data": {
      "application/vnd.jupyter.widget-view+json": {
       "model_id": "26d0e3a5ae3b4bedaf464a3328d75a07",
       "version_major": 2,
       "version_minor": 0
      },
      "text/plain": [
       "Validation: |          | 0/? [00:00<?, ?it/s]"
      ]
     },
     "metadata": {},
     "output_type": "display_data"
    },
    {
     "data": {
      "application/vnd.jupyter.widget-view+json": {
       "model_id": "6d27942625d14def94de29204f21523f",
       "version_major": 2,
       "version_minor": 0
      },
      "text/plain": [
       "Validation: |          | 0/? [00:00<?, ?it/s]"
      ]
     },
     "metadata": {},
     "output_type": "display_data"
    },
    {
     "data": {
      "application/vnd.jupyter.widget-view+json": {
       "model_id": "231b453a1ae144469a9132639136ba22",
       "version_major": 2,
       "version_minor": 0
      },
      "text/plain": [
       "Validation: |          | 0/? [00:00<?, ?it/s]"
      ]
     },
     "metadata": {},
     "output_type": "display_data"
    },
    {
     "data": {
      "application/vnd.jupyter.widget-view+json": {
       "model_id": "77200474d18e438aa7d6a7671986707e",
       "version_major": 2,
       "version_minor": 0
      },
      "text/plain": [
       "Validation: |          | 0/? [00:00<?, ?it/s]"
      ]
     },
     "metadata": {},
     "output_type": "display_data"
    },
    {
     "data": {
      "application/vnd.jupyter.widget-view+json": {
       "model_id": "86a50b4c122246529a16625ff7fce47c",
       "version_major": 2,
       "version_minor": 0
      },
      "text/plain": [
       "Validation: |          | 0/? [00:00<?, ?it/s]"
      ]
     },
     "metadata": {},
     "output_type": "display_data"
    },
    {
     "data": {
      "application/vnd.jupyter.widget-view+json": {
       "model_id": "816a1ff01dbb48cea980c457d8f66f19",
       "version_major": 2,
       "version_minor": 0
      },
      "text/plain": [
       "Validation: |          | 0/? [00:00<?, ?it/s]"
      ]
     },
     "metadata": {},
     "output_type": "display_data"
    },
    {
     "data": {
      "application/vnd.jupyter.widget-view+json": {
       "model_id": "f7b736cc48074d3fa5ab7df3f9088415",
       "version_major": 2,
       "version_minor": 0
      },
      "text/plain": [
       "Validation: |          | 0/? [00:00<?, ?it/s]"
      ]
     },
     "metadata": {},
     "output_type": "display_data"
    },
    {
     "data": {
      "application/vnd.jupyter.widget-view+json": {
       "model_id": "8ae9a7ab1ea54810bf98035ba625a491",
       "version_major": 2,
       "version_minor": 0
      },
      "text/plain": [
       "Validation: |          | 0/? [00:00<?, ?it/s]"
      ]
     },
     "metadata": {},
     "output_type": "display_data"
    },
    {
     "data": {
      "application/vnd.jupyter.widget-view+json": {
       "model_id": "8b4b76cb98384005be20efd0ba2cadaa",
       "version_major": 2,
       "version_minor": 0
      },
      "text/plain": [
       "Validation: |          | 0/? [00:00<?, ?it/s]"
      ]
     },
     "metadata": {},
     "output_type": "display_data"
    },
    {
     "data": {
      "application/vnd.jupyter.widget-view+json": {
       "model_id": "b028048489214273855e8ad16dcf02d0",
       "version_major": 2,
       "version_minor": 0
      },
      "text/plain": [
       "Validation: |          | 0/? [00:00<?, ?it/s]"
      ]
     },
     "metadata": {},
     "output_type": "display_data"
    },
    {
     "name": "stderr",
     "output_type": "stream",
     "text": [
      "`Trainer.fit` stopped: `max_epochs=150` reached.\n",
      "2024/01/15 22:09:31 WARNING mlflow.utils.autologging_utils: MLflow autologging encountered a warning: \"/home/sadhanar/miniconda3/envs/mlops/lib/python3.8/site-packages/_distutils_hack/__init__.py:33: UserWarning: Setuptools is replacing distutils.\"\n",
      "LOCAL_RANK: 0 - CUDA_VISIBLE_DEVICES: [0]\n",
      "/home/sadhanar/.local/lib/python3.8/site-packages/pytorch_lightning/trainer/connectors/data_connector.py:441: The 'val_dataloader' does not have many workers which may be a bottleneck. Consider increasing the value of the `num_workers` argument` to `num_workers=15` in the `DataLoader` to improve performance.\n"
     ]
    },
    {
     "data": {
      "application/vnd.jupyter.widget-view+json": {
       "model_id": "792ea5065cc344958976f32e24b5dfa8",
       "version_major": 2,
       "version_minor": 0
      },
      "text/plain": [
       "Validation: |          | 0/? [00:00<?, ?it/s]"
      ]
     },
     "metadata": {},
     "output_type": "display_data"
    },
    {
     "data": {
      "text/html": [
       "<pre style=\"white-space:pre;overflow-x:auto;line-height:normal;font-family:Menlo,'DejaVu Sans Mono',consolas,'Courier New',monospace\">┏━━━━━━━━━━━━━━━━━━━━━━━━━━━┳━━━━━━━━━━━━━━━━━━━━━━━━━━━┓\n",
       "┃<span style=\"font-weight: bold\">      Validate metric      </span>┃<span style=\"font-weight: bold\">       DataLoader 0        </span>┃\n",
       "┡━━━━━━━━━━━━━━━━━━━━━━━━━━━╇━━━━━━━━━━━━━━━━━━━━━━━━━━━┩\n",
       "│<span style=\"color: #008080; text-decoration-color: #008080\">          val_dsc          </span>│<span style=\"color: #800080; text-decoration-color: #800080\">    0.9334362149238586     </span>│\n",
       "│<span style=\"color: #008080; text-decoration-color: #008080\">         val_loss          </span>│<span style=\"color: #800080; text-decoration-color: #800080\">    0.4856393337249756     </span>│\n",
       "└───────────────────────────┴───────────────────────────┘\n",
       "</pre>\n"
      ],
      "text/plain": [
       "┏━━━━━━━━━━━━━━━━━━━━━━━━━━━┳━━━━━━━━━━━━━━━━━━━━━━━━━━━┓\n",
       "┃\u001b[1m \u001b[0m\u001b[1m     Validate metric     \u001b[0m\u001b[1m \u001b[0m┃\u001b[1m \u001b[0m\u001b[1m      DataLoader 0       \u001b[0m\u001b[1m \u001b[0m┃\n",
       "┡━━━━━━━━━━━━━━━━━━━━━━━━━━━╇━━━━━━━━━━━━━━━━━━━━━━━━━━━┩\n",
       "│\u001b[36m \u001b[0m\u001b[36m         val_dsc         \u001b[0m\u001b[36m \u001b[0m│\u001b[35m \u001b[0m\u001b[35m   0.9334362149238586    \u001b[0m\u001b[35m \u001b[0m│\n",
       "│\u001b[36m \u001b[0m\u001b[36m        val_loss         \u001b[0m\u001b[36m \u001b[0m│\u001b[35m \u001b[0m\u001b[35m   0.4856393337249756    \u001b[0m\u001b[35m \u001b[0m│\n",
       "└───────────────────────────┴───────────────────────────┘\n"
      ]
     },
     "metadata": {},
     "output_type": "display_data"
    }
   ],
   "source": [
    "mlflow.end_run()\n",
    "\n",
    "# Using a combination of direct mlflow logging and pytorch lightning logger\n",
    "mlflow.set_tracking_uri(mlflow_uri)\n",
    "mlflow.set_experiment(experiment_name)\n",
    "mlflow.pytorch.autolog()\n",
    "mlflow.start_run(run_name=run_name)\n",
    "mlflow.set_experiment_tags(experiment_tags)\n",
    "\n",
    "mlflow.log_params(config)\n",
    "\n",
    "# mlf_logger.experiment.log_artifact(\n",
    "#     run_id=mlf_logger.run_id,\n",
    "#     local_path=checkpoint_callback.best_model_path)\n",
    "\n",
    "# With pytorch lightining\n",
    "#Create a logger - written this way to ensure that pytorch logger is consistent with direct mlflow logger\n",
    "mlf_logger = MLFlowLogger(experiment_name=mlflow.get_experiment(mlflow.active_run().info.experiment_id).name,\n",
    "    tracking_uri=mlflow.get_tracking_uri(),\n",
    "    run_id=mlflow.active_run().info.run_id)\n",
    "\n",
    "    # #mlflow.set_tag()\n",
    "# data module\n",
    "dm = LungSegmentationDataModule(os.path.join(DATA_DIR,'datalist.csv'),batch_size=config['batch_size'], num_workers=config['num_workers'])\n",
    "print(torch.cuda.is_available())\n",
    "\n",
    "# Network\n",
    "model = Net(input_size=config['input_size'], num_classes=config['num_classes'], learning_rate=config['learning_rate'])\n",
    "\n",
    "# Trainer\n",
    "trainer = pl.Trainer(min_epochs=0, max_epochs=config['num_epochs'], accelerator = \"gpu\", logger = mlf_logger, log_every_n_steps = 5)\n",
    "\n",
    "trainer.fit(model,dm)\n",
    "trainer.validate(model,dm)\n",
    "# trainer.test(model,dm)\n",
    "\n",
    "mlflow.end_run()"
   ]
  },
  {
   "cell_type": "markdown",
   "metadata": {},
   "source": [
    "# Download MLflow artifacts and run inference"
   ]
  },
  {
   "cell_type": "code",
   "execution_count": 3,
   "metadata": {},
   "outputs": [
    {
     "name": "stderr",
     "output_type": "stream",
     "text": [
      "c:\\Users\\sadhana.ravikumar\\anaconda3\\envs\\mlops\\lib\\site-packages\\tqdm\\auto.py:21: TqdmWarning: IProgress not found. Please update jupyter and ipywidgets. See https://ipywidgets.readthedocs.io/en/stable/user_install.html\n",
      "  from .autonotebook import tqdm as notebook_tqdm\n",
      "Downloading artifacts:   0%|          | 0/7 [01:00<?, ?it/s]\n"
     ]
    },
    {
     "ename": "MlflowException",
     "evalue": "The following failures occurred while downloading one or more artifacts from http://localhost:5000/api/2.0/mlflow-artifacts/artifacts/486829024399707616/b093cd2d5b2c4c9db5e8c756dd76cedf/artifacts:\n##### File model/conda.yaml #####\nAPI request to http://localhost:5000/api/2.0/mlflow-artifacts/artifacts/486829024399707616/b093cd2d5b2c4c9db5e8c756dd76cedf/artifacts/model/conda.yaml failed with exception HTTPConnectionPool(host='localhost', port=5000): Max retries exceeded with url: /api/2.0/mlflow-artifacts/artifacts/486829024399707616/b093cd2d5b2c4c9db5e8c756dd76cedf/artifacts/model/conda.yaml (Caused by ResponseError('too many 500 error responses'))\n##### File model/MLmodel #####\nAPI request to http://localhost:5000/api/2.0/mlflow-artifacts/artifacts/486829024399707616/b093cd2d5b2c4c9db5e8c756dd76cedf/artifacts/model/MLmodel failed with exception HTTPConnectionPool(host='localhost', port=5000): Max retries exceeded with url: /api/2.0/mlflow-artifacts/artifacts/486829024399707616/b093cd2d5b2c4c9db5e8c756dd76cedf/artifacts/model/MLmodel (Caused by ResponseError('too many 500 error responses'))\n##### File model/data/model.pth #####\nAPI request to http://localhost:5000/api/2.0/mlflow-artifacts/artifacts/486829024399707616/b093cd2d5b2c4c9db5e8c756dd76cedf/artifacts/model/data/model.pth failed with exception HTTPConnectionPool(host='localhost', port=5000): Max retries exceeded with url: /api/2.0/mlflow-artifacts/artifacts/486829024399707616/b093cd2d5b2c4c9db5e8c756dd76cedf/artifacts/model/data/model.pth (Caused by ResponseError('too many 500 error responses'))\n##### File model/data/pickle_module_info.txt #####\nAPI request to http://localhost:5000/api/2.0/mlflow-artifacts/artifacts/486829024399707616/b093cd2d5b2c4c9db5e8c756dd76cedf/artifacts/model/data/pickle_module_info.txt failed with exception HTTPConnectionPool(host='localhost', port=5000): Max retries exceeded with url: /api/2.0/mlflow-artifacts/artifacts/486829024399707616/b093cd2d5b2c4c9db5e8c756dd76cedf/artifacts/model/data/pickle_module_info.txt (Caused by ResponseError('too many 500 error responses'))\n##### File model_summary.txt #####\nAPI request to http://localhost:5000/api/2.0/mlflow-artifacts/artifacts/486829024399707616/b093cd2d5b2c4c9db5e8c756dd76cedf/artifacts/model_summary.txt failed with exception HTTPConnectionPool(host='localhost', port=5000): Max retries exceeded with url: /api/2.0/mlflow-artifacts/artifacts/486829024399707616/b093cd2d5b2c4c9db5e8c756dd76cedf/artifacts/model_summary.txt (Caused by ResponseError('too many 500 error responses'))\n##### File model/requirements.txt #####\nAPI request to http://localhost:5000/api/2.0/mlflow-artifacts/artifacts/486829024399707616/b093cd2d5b2c4c9db5e8c756dd76cedf/artifacts/model/requirements.txt failed with exception HTTPConnectionPool(host='localhost', port=5000): Max retries exceeded with url: /api/2.0/mlflow-artifacts/artifacts/486829024399707616/b093cd2d5b2c4c9db5e8c756dd76cedf/artifacts/model/requirements.txt (Caused by ResponseError('too many 500 error responses'))\n##### File model/python_env.yaml #####\nAPI request to http://localhost:5000/api/2.0/mlflow-artifacts/artifacts/486829024399707616/b093cd2d5b2c4c9db5e8c756dd76cedf/artifacts/model/python_env.yaml failed with exception HTTPConnectionPool(host='localhost', port=5000): Max retries exceeded with url: /api/2.0/mlflow-artifacts/artifacts/486829024399707616/b093cd2d5b2c4c9db5e8c756dd76cedf/artifacts/model/python_env.yaml (Caused by ResponseError('too many 500 error responses'))",
     "output_type": "error",
     "traceback": [
      "\u001b[1;31m---------------------------------------------------------------------------\u001b[0m",
      "\u001b[1;31mMlflowException\u001b[0m                           Traceback (most recent call last)",
      "Cell \u001b[1;32mIn[3], line 3\u001b[0m\n\u001b[0;32m      1\u001b[0m mlflow\u001b[38;5;241m.\u001b[39mset_tracking_uri(mlflow_uri)\n\u001b[0;32m      2\u001b[0m run_id \u001b[38;5;241m=\u001b[39m \u001b[38;5;124m\"\u001b[39m\u001b[38;5;124mb093cd2d5b2c4c9db5e8c756dd76cedf\u001b[39m\u001b[38;5;124m\"\u001b[39m\n\u001b[1;32m----> 3\u001b[0m \u001b[43mmlflow\u001b[49m\u001b[38;5;241;43m.\u001b[39;49m\u001b[43martifacts\u001b[49m\u001b[38;5;241;43m.\u001b[39;49m\u001b[43mdownload_artifacts\u001b[49m\u001b[43m(\u001b[49m\u001b[43mrun_id\u001b[49m\u001b[38;5;241;43m=\u001b[39;49m\u001b[43mrun_id\u001b[49m\u001b[43m,\u001b[49m\u001b[43m \u001b[49m\u001b[43mdst_path\u001b[49m\u001b[38;5;241;43m=\u001b[39;49m\u001b[38;5;124;43m\"\u001b[39;49m\u001b[38;5;124;43m../models/\u001b[39;49m\u001b[38;5;124;43m\"\u001b[39;49m\u001b[43m)\u001b[49m\n",
      "File \u001b[1;32mc:\\Users\\sadhana.ravikumar\\anaconda3\\envs\\mlops\\lib\\site-packages\\mlflow\\artifacts\\__init__.py:69\u001b[0m, in \u001b[0;36mdownload_artifacts\u001b[1;34m(artifact_uri, run_id, artifact_path, dst_path, tracking_uri)\u001b[0m\n\u001b[0;32m     65\u001b[0m artifact_uri \u001b[38;5;241m=\u001b[39m store\u001b[38;5;241m.\u001b[39mget_run(run_id)\u001b[38;5;241m.\u001b[39minfo\u001b[38;5;241m.\u001b[39martifact_uri\n\u001b[0;32m     66\u001b[0m artifact_repo \u001b[38;5;241m=\u001b[39m get_artifact_repository(\n\u001b[0;32m     67\u001b[0m     add_databricks_profile_info_to_artifact_uri(artifact_uri, tracking_uri)\n\u001b[0;32m     68\u001b[0m )\n\u001b[1;32m---> 69\u001b[0m \u001b[38;5;28;01mreturn\u001b[39;00m \u001b[43martifact_repo\u001b[49m\u001b[38;5;241;43m.\u001b[39;49m\u001b[43mdownload_artifacts\u001b[49m\u001b[43m(\u001b[49m\u001b[43martifact_path\u001b[49m\u001b[43m,\u001b[49m\u001b[43m \u001b[49m\u001b[43mdst_path\u001b[49m\u001b[38;5;241;43m=\u001b[39;49m\u001b[43mdst_path\u001b[49m\u001b[43m)\u001b[49m\n",
      "File \u001b[1;32mc:\\Users\\sadhana.ravikumar\\anaconda3\\envs\\mlops\\lib\\site-packages\\mlflow\\store\\artifact\\artifact_repo.py:222\u001b[0m, in \u001b[0;36mArtifactRepository.download_artifacts\u001b[1;34m(self, artifact_path, dst_path)\u001b[0m\n\u001b[0;32m    218\u001b[0m     template \u001b[38;5;241m=\u001b[39m \u001b[38;5;124m\"\u001b[39m\u001b[38;5;124m##### File \u001b[39m\u001b[38;5;132;01m{path}\u001b[39;00m\u001b[38;5;124m #####\u001b[39m\u001b[38;5;130;01m\\n\u001b[39;00m\u001b[38;5;132;01m{error}\u001b[39;00m\u001b[38;5;124m\"\u001b[39m\n\u001b[0;32m    219\u001b[0m     failures \u001b[38;5;241m=\u001b[39m \u001b[38;5;124m\"\u001b[39m\u001b[38;5;130;01m\\n\u001b[39;00m\u001b[38;5;124m\"\u001b[39m\u001b[38;5;241m.\u001b[39mjoin(\n\u001b[0;32m    220\u001b[0m         template\u001b[38;5;241m.\u001b[39mformat(path\u001b[38;5;241m=\u001b[39mpath, error\u001b[38;5;241m=\u001b[39merror) \u001b[38;5;28;01mfor\u001b[39;00m path, error \u001b[38;5;129;01min\u001b[39;00m failed_downloads\u001b[38;5;241m.\u001b[39mitems()\n\u001b[0;32m    221\u001b[0m     )\n\u001b[1;32m--> 222\u001b[0m     \u001b[38;5;28;01mraise\u001b[39;00m MlflowException(\n\u001b[0;32m    223\u001b[0m         message\u001b[38;5;241m=\u001b[39m(\n\u001b[0;32m    224\u001b[0m             \u001b[38;5;124m\"\u001b[39m\u001b[38;5;124mThe following failures occurred while downloading one or more\u001b[39m\u001b[38;5;124m\"\u001b[39m\n\u001b[0;32m    225\u001b[0m             \u001b[38;5;124mf\u001b[39m\u001b[38;5;124m\"\u001b[39m\u001b[38;5;124m artifacts from \u001b[39m\u001b[38;5;132;01m{\u001b[39;00m\u001b[38;5;28mself\u001b[39m\u001b[38;5;241m.\u001b[39martifact_uri\u001b[38;5;132;01m}\u001b[39;00m\u001b[38;5;124m:\u001b[39m\u001b[38;5;130;01m\\n\u001b[39;00m\u001b[38;5;132;01m{\u001b[39;00m_truncate_error(failures)\u001b[38;5;132;01m}\u001b[39;00m\u001b[38;5;124m\"\u001b[39m\n\u001b[0;32m    226\u001b[0m         )\n\u001b[0;32m    227\u001b[0m     )\n\u001b[0;32m    229\u001b[0m \u001b[38;5;28;01mreturn\u001b[39;00m os\u001b[38;5;241m.\u001b[39mpath\u001b[38;5;241m.\u001b[39mjoin(dst_path, artifact_path)\n",
      "\u001b[1;31mMlflowException\u001b[0m: The following failures occurred while downloading one or more artifacts from http://localhost:5000/api/2.0/mlflow-artifacts/artifacts/486829024399707616/b093cd2d5b2c4c9db5e8c756dd76cedf/artifacts:\n##### File model/conda.yaml #####\nAPI request to http://localhost:5000/api/2.0/mlflow-artifacts/artifacts/486829024399707616/b093cd2d5b2c4c9db5e8c756dd76cedf/artifacts/model/conda.yaml failed with exception HTTPConnectionPool(host='localhost', port=5000): Max retries exceeded with url: /api/2.0/mlflow-artifacts/artifacts/486829024399707616/b093cd2d5b2c4c9db5e8c756dd76cedf/artifacts/model/conda.yaml (Caused by ResponseError('too many 500 error responses'))\n##### File model/MLmodel #####\nAPI request to http://localhost:5000/api/2.0/mlflow-artifacts/artifacts/486829024399707616/b093cd2d5b2c4c9db5e8c756dd76cedf/artifacts/model/MLmodel failed with exception HTTPConnectionPool(host='localhost', port=5000): Max retries exceeded with url: /api/2.0/mlflow-artifacts/artifacts/486829024399707616/b093cd2d5b2c4c9db5e8c756dd76cedf/artifacts/model/MLmodel (Caused by ResponseError('too many 500 error responses'))\n##### File model/data/model.pth #####\nAPI request to http://localhost:5000/api/2.0/mlflow-artifacts/artifacts/486829024399707616/b093cd2d5b2c4c9db5e8c756dd76cedf/artifacts/model/data/model.pth failed with exception HTTPConnectionPool(host='localhost', port=5000): Max retries exceeded with url: /api/2.0/mlflow-artifacts/artifacts/486829024399707616/b093cd2d5b2c4c9db5e8c756dd76cedf/artifacts/model/data/model.pth (Caused by ResponseError('too many 500 error responses'))\n##### File model/data/pickle_module_info.txt #####\nAPI request to http://localhost:5000/api/2.0/mlflow-artifacts/artifacts/486829024399707616/b093cd2d5b2c4c9db5e8c756dd76cedf/artifacts/model/data/pickle_module_info.txt failed with exception HTTPConnectionPool(host='localhost', port=5000): Max retries exceeded with url: /api/2.0/mlflow-artifacts/artifacts/486829024399707616/b093cd2d5b2c4c9db5e8c756dd76cedf/artifacts/model/data/pickle_module_info.txt (Caused by ResponseError('too many 500 error responses'))\n##### File model_summary.txt #####\nAPI request to http://localhost:5000/api/2.0/mlflow-artifacts/artifacts/486829024399707616/b093cd2d5b2c4c9db5e8c756dd76cedf/artifacts/model_summary.txt failed with exception HTTPConnectionPool(host='localhost', port=5000): Max retries exceeded with url: /api/2.0/mlflow-artifacts/artifacts/486829024399707616/b093cd2d5b2c4c9db5e8c756dd76cedf/artifacts/model_summary.txt (Caused by ResponseError('too many 500 error responses'))\n##### File model/requirements.txt #####\nAPI request to http://localhost:5000/api/2.0/mlflow-artifacts/artifacts/486829024399707616/b093cd2d5b2c4c9db5e8c756dd76cedf/artifacts/model/requirements.txt failed with exception HTTPConnectionPool(host='localhost', port=5000): Max retries exceeded with url: /api/2.0/mlflow-artifacts/artifacts/486829024399707616/b093cd2d5b2c4c9db5e8c756dd76cedf/artifacts/model/requirements.txt (Caused by ResponseError('too many 500 error responses'))\n##### File model/python_env.yaml #####\nAPI request to http://localhost:5000/api/2.0/mlflow-artifacts/artifacts/486829024399707616/b093cd2d5b2c4c9db5e8c756dd76cedf/artifacts/model/python_env.yaml failed with exception HTTPConnectionPool(host='localhost', port=5000): Max retries exceeded with url: /api/2.0/mlflow-artifacts/artifacts/486829024399707616/b093cd2d5b2c4c9db5e8c756dd76cedf/artifacts/model/python_env.yaml (Caused by ResponseError('too many 500 error responses'))"
     ]
    }
   ],
   "source": [
    "mlflow.set_tracking_uri(mlflow_uri)\n",
    "run_id = \"b093cd2d5b2c4c9db5e8c756dd76cedf\"\n",
    "mlflow.artifacts.download_artifacts(run_id=run_id, dst_path=\"../models/\")"
   ]
  }
 ],
 "metadata": {
  "kernelspec": {
   "display_name": "mlops",
   "language": "python",
   "name": "python3"
  },
  "language_info": {
   "codemirror_mode": {
    "name": "ipython",
    "version": 3
   },
   "file_extension": ".py",
   "mimetype": "text/x-python",
   "name": "python",
   "nbconvert_exporter": "python",
   "pygments_lexer": "ipython3",
   "version": "3.9.18"
  }
 },
 "nbformat": 4,
 "nbformat_minor": 2
}
